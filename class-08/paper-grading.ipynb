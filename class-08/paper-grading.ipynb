{
 "cells": [
  {
   "cell_type": "code",
   "id": "7cf4edb2",
   "metadata": {
    "tags": [
     "test"
    ],
    "ExecuteTime": {
     "end_time": "2025-09-12T04:03:58.027711Z",
     "start_time": "2025-09-12T04:03:58.021596Z"
    }
   },
   "source": [
    "# Load the saved API keys\n",
    "\n",
    "import os\n",
    "from dotenv import load_dotenv\n",
    "load_dotenv()"
   ],
   "outputs": [
    {
     "data": {
      "text/plain": [
       "True"
      ]
     },
     "execution_count": 1,
     "metadata": {},
     "output_type": "execute_result"
    }
   ],
   "execution_count": 1
  },
  {
   "cell_type": "markdown",
   "id": "ec349e40",
   "metadata": {},
   "source": [
    "## Example "
   ]
  },
  {
   "cell_type": "code",
   "id": "8d1de840",
   "metadata": {
    "ExecuteTime": {
     "end_time": "2025-09-12T04:05:58.273561Z",
     "start_time": "2025-09-12T04:05:57.652648Z"
    }
   },
   "source": [
    "from langchain.chat_models import init_chat_model\n",
    "model = init_chat_model(\"llama-3.3-70b-versatile\", model_provider=\"groq\")\n",
    "\n",
    "prompt = \"\"\"\n",
    "You are an assignment grader. Compare the student's answer with the teacher's ideal answer. If the student's answer fully matches the teacher's, award 10 marks. Otherwise, assign partial marks from 0 to 9, based on how closely the student's answer aligns with the ideal answer.\n",
    "\n",
    "Provide your evaluation in the following format:\n",
    "\n",
    "shell\n",
    "Copy\n",
    "Edit\n",
    "## Question  \n",
    "{question}  \n",
    "## IdealAnswer  \n",
    "{ideal_answer}  \n",
    "## StudentAnswer  \n",
    "{student_answer} \n",
    "## Marks:{{marks}}  \n",
    "## Marks Explanation  \n",
    "{{reason_for_deduction}}  \n",
    "Be fair and specific in your evaluation. Focus on correctness, completeness, and relevance of the student’s answer when comparing it to the ideal answer.\n",
    "\"\"\"\n",
    "\n",
    "response = model.invoke(prompt.format(\n",
    "    question=\"Why is Ram upset over Sam?\", \n",
    "    ideal_answer=\"Because Sam has borrowed money from Ram and and has not returned it\",\n",
    "    student_answer=\"Because Sam has not returned the money he owe to Ram\"))\n",
    "from IPython.display import Markdown\n",
    "Markdown(response.content)"
   ],
   "outputs": [
    {
     "data": {
      "text/plain": [
       "<IPython.core.display.Markdown object>"
      ],
      "text/markdown": "## Question  \nWhy is Ram upset over Sam?  \n## IdealAnswer  \nBecause Sam has borrowed money from Ram and and has not returned it  \n## StudentAnswer  \nBecause Sam has not returned the money he owe to Ram \n## Marks:9  \n## Marks Explanation  \nThe student's answer is very close to the ideal answer, correctly identifying that Sam has not returned the money he owes to Ram, which is the reason for Ram's upset. However, the student's answer lacks the detail that Sam borrowed the money from Ram, as stated in the ideal answer. The phrase \"the money he owe to Ram\" could be more accurately expressed as \"the money he borrowed from Ram\" to fully match the ideal answer. Despite this minor omission, the student's answer is largely correct and demonstrates a clear understanding of the situation, warranting 9 marks out of 10."
     },
     "execution_count": 3,
     "metadata": {},
     "output_type": "execute_result"
    }
   ],
   "execution_count": 3
  },
  {
   "cell_type": "code",
   "id": "f46a4501",
   "metadata": {
    "ExecuteTime": {
     "end_time": "2025-09-12T04:06:46.049527Z",
     "start_time": "2025-09-12T04:06:45.539378Z"
    }
   },
   "source": [
    "response = model.invoke(prompt.format(\n",
    "    question=\"What does WTF stands for?\", \n",
    "    ideal_answer=\"WTF stands for Wednesday Thursday Friday\",\n",
    "    student_answer=\"World Trade Federation\"))\n",
    "from IPython.display import Markdown\n",
    "Markdown(response.content)"
   ],
   "outputs": [
    {
     "data": {
      "text/plain": [
       "<IPython.core.display.Markdown object>"
      ],
      "text/markdown": "## Question  \nWhat does WTF stands for?  \n## IdealAnswer  \nWTF stands for Wednesday Thursday Friday  \n## StudentAnswer  \nWorld Trade Federation \n## Marks:0  \n## Marks Explanation  \nThe student's answer does not match the ideal answer at all. The ideal answer states that WTF stands for Wednesday Thursday Friday, while the student's answer claims it stands for World Trade Federation, which is incorrect in this context. The student's answer seems to be a plausible expansion of the abbreviation, but it is not the specific answer the teacher was looking for, resulting in a complete deduction of marks."
     },
     "execution_count": 5,
     "metadata": {},
     "output_type": "execute_result"
    }
   ],
   "execution_count": 5
  },
  {
   "cell_type": "code",
   "execution_count": null,
   "id": "8e80bab4",
   "metadata": {},
   "outputs": [],
   "source": []
  }
 ],
 "metadata": {
  "kernelspec": {
   "display_name": "langgraph-academy",
   "language": "python",
   "name": "python3"
  },
  "language_info": {
   "codemirror_mode": {
    "name": "ipython",
    "version": 3
   },
   "file_extension": ".py",
   "mimetype": "text/x-python",
   "name": "python",
   "nbconvert_exporter": "python",
   "pygments_lexer": "ipython3",
   "version": "3.11.11"
  }
 },
 "nbformat": 4,
 "nbformat_minor": 5
}
