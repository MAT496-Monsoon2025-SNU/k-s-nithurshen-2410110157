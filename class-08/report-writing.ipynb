{
 "cells": [
  {
   "cell_type": "markdown",
   "id": "acaa284b",
   "metadata": {},
   "source": [
    "Source: https://python.langchain.com/docs/tutorials/llm_chain/"
   ]
  },
  {
   "cell_type": "code",
   "id": "7cf4edb2",
   "metadata": {
    "tags": [
     "test"
    ],
    "ExecuteTime": {
     "end_time": "2025-09-12T03:30:38.768557Z",
     "start_time": "2025-09-12T03:30:38.761681Z"
    }
   },
   "source": [
    "# Load the saved API keys\n",
    "\n",
    "import os\n",
    "from dotenv import load_dotenv\n",
    "load_dotenv()"
   ],
   "outputs": [
    {
     "data": {
      "text/plain": [
       "True"
      ]
     },
     "execution_count": 1,
     "metadata": {},
     "output_type": "execute_result"
    }
   ],
   "execution_count": 1
  },
  {
   "cell_type": "code",
   "id": "d288a31b",
   "metadata": {
    "ExecuteTime": {
     "end_time": "2025-09-12T03:33:55.144231Z",
     "start_time": "2025-09-12T03:33:55.134487Z"
    }
   },
   "source": [
    "from langchain.chat_models import init_chat_model\n",
    "model = init_chat_model(\"llama-3.3-70b-versatile\", model_provider=\"groq\")"
   ],
   "outputs": [],
   "execution_count": 4
  },
  {
   "cell_type": "code",
   "id": "2c21035e",
   "metadata": {
    "ExecuteTime": {
     "end_time": "2025-09-12T03:33:57.390421Z",
     "start_time": "2025-09-12T03:33:57.196044Z"
    }
   },
   "source": [
    "from langchain_core.messages import HumanMessage, SystemMessage\n",
    "\n",
    "messages = [\n",
    "    SystemMessage(\"Translate the following from English into Italian\"),\n",
    "    HumanMessage(\"hi!\"),\n",
    "]\n",
    "\n",
    "model.invoke(messages)"
   ],
   "outputs": [
    {
     "data": {
      "text/plain": [
       "AIMessage(content='Ciao!', additional_kwargs={}, response_metadata={'token_usage': {'completion_tokens': 4, 'prompt_tokens': 44, 'total_tokens': 48, 'completion_time': 0.000719041, 'prompt_time': 0.01801412, 'queue_time': 0.04583666, 'total_time': 0.018733161}, 'model_name': 'llama-3.3-70b-versatile', 'system_fingerprint': 'fp_2ddfbb0da0', 'service_tier': 'on_demand', 'finish_reason': 'stop', 'logprobs': None}, id='run--b905f64f-b15a-4d3b-82c8-5deb8f190fdb-0', usage_metadata={'input_tokens': 44, 'output_tokens': 4, 'total_tokens': 48})"
      ]
     },
     "execution_count": 5,
     "metadata": {},
     "output_type": "execute_result"
    }
   ],
   "execution_count": 5
  },
  {
   "cell_type": "markdown",
   "id": "7559e24a",
   "metadata": {},
   "source": [
    "## Exercise\n",
    "Practice tweaking the above cells with different models, different SYSTEM messages, different Human messages"
   ]
  },
  {
   "cell_type": "code",
   "id": "3ed0be30",
   "metadata": {
    "ExecuteTime": {
     "end_time": "2025-09-12T03:34:47.274206Z",
     "start_time": "2025-09-12T03:34:47.079814Z"
    }
   },
   "source": [
    "messages = [\n",
    "    SystemMessage(\"Translate the following from English into Dutch\"),\n",
    "    HumanMessage(\"Simply Simply Lovely\"),\n",
    "]\n",
    "\n",
    "model.invoke(messages)"
   ],
   "outputs": [
    {
     "data": {
      "text/plain": [
       "AIMessage(content='Eenvoudig, Eenvoudig, Prachtig', additional_kwargs={}, response_metadata={'token_usage': {'completion_tokens': 14, 'prompt_tokens': 45, 'total_tokens': 59, 'completion_time': 0.041288323, 'prompt_time': 0.011219328, 'queue_time': 0.050263492, 'total_time': 0.052507651}, 'model_name': 'llama-3.3-70b-versatile', 'system_fingerprint': 'fp_2ddfbb0da0', 'service_tier': 'on_demand', 'finish_reason': 'stop', 'logprobs': None}, id='run--e8e50c94-a672-4558-bac7-634517fa97ad-0', usage_metadata={'input_tokens': 45, 'output_tokens': 14, 'total_tokens': 59})"
      ]
     },
     "execution_count": 7,
     "metadata": {},
     "output_type": "execute_result"
    }
   ],
   "execution_count": 7
  },
  {
   "cell_type": "code",
   "id": "a28192a1",
   "metadata": {
    "ExecuteTime": {
     "end_time": "2025-09-12T03:38:03.990670Z",
     "start_time": "2025-09-12T03:38:02.923057Z"
    }
   },
   "source": [
    "messages = [\n",
    "    SystemMessage(\"Given the information about three drivers, tell me which driver should I recruit as the main driver and which driver as the support driver for the 2025 season.\"),\n",
    "    HumanMessage(\"Sebastian Vettel won the world championship from 2010 to 2013, Lewis Hamilton won the world championship in the years 2008, 2014, 2015, and 2017 to 2020, Max Verstappen won the world championship from 2021-2024\"),\n",
    "    HumanMessage(\"Which driver combination is the best?\"),\n",
    "]\n",
    "\n",
    "model.invoke(messages)"
   ],
   "outputs": [
    {
     "data": {
      "text/plain": [
       "AIMessage(content=\"Based on the provided information, I'd recommend recruiting Lewis Hamilton as the main driver and Max Verstappen as the support driver for the 2025 season.\\n\\nHere's the reasoning:\\n- Lewis Hamilton has a proven track record of winning multiple championships (7 titles: 2008, 2014, 2015, and 2017-2020), showcasing his consistency and skill over the years.\\n- Max Verstappen, on the other hand, has won the most recent championships (2021-2024), indicating that he is in top form and has a strong understanding of the current racing environment.\\n\\nBy recruiting Hamilton as the main driver, you'll benefit from his extensive experience and championship-winning mentality. Having Verstappen as the support driver will provide a strong backup and potentially create a competitive rivalry within the team, pushing both drivers to perform at their best.\\n\\nSebastian Vettel, although a highly accomplished driver, has not won a championship since 2013, which might indicate that he's not as competitive in the current racing landscape. However, it's essential to note that this is a simplified analysis based on limited information, and other factors such as team dynamics, driver personalities, and car performance should also be considered when making a real-world decision.\", additional_kwargs={}, response_metadata={'token_usage': {'completion_tokens': 256, 'prompt_tokens': 141, 'total_tokens': 397, 'completion_time': 0.803383181, 'prompt_time': 0.014946003, 'queue_time': 0.053912417, 'total_time': 0.818329184}, 'model_name': 'llama-3.3-70b-versatile', 'system_fingerprint': 'fp_3f3b593e33', 'service_tier': 'on_demand', 'finish_reason': 'stop', 'logprobs': None}, id='run--954242a2-7a3e-4a4b-bd79-7a422cef29a3-0', usage_metadata={'input_tokens': 141, 'output_tokens': 256, 'total_tokens': 397})"
      ]
     },
     "execution_count": 8,
     "metadata": {},
     "output_type": "execute_result"
    }
   ],
   "execution_count": 8
  },
  {
   "cell_type": "markdown",
   "id": "0f358305",
   "metadata": {},
   "source": [
    "# Streaming Message"
   ]
  },
  {
   "cell_type": "code",
   "id": "0c682adb",
   "metadata": {
    "ExecuteTime": {
     "end_time": "2025-09-12T03:38:58.509949Z",
     "start_time": "2025-09-12T03:38:29.719195Z"
    }
   },
   "source": [
    "import time\n",
    "for token in model.stream(messages):\n",
    "    print(token.content, end=\"|\")\n",
    "    time.sleep(0.1)"
   ],
   "outputs": [
    {
     "name": "stdout",
     "output_type": "stream",
     "text": [
      "|Based| on| the| information| provided|,| here|'s| an| analysis| of| the| drivers|:\n",
      "\n",
      "|1|.| **|Se|bastian| V|ettel|**:| A| four|-time| world| champion| with| consecutive| titles| from| |201|0| to| |201|3|.| However|,| his| last| championship| win| was| in| |201|3|,| which| is| over| |11| years| ago|.\n",
      "|2|.| **|Lewis| Hamilton|**:| A| highly| decorated| driver| with| seven| world| championships|,| including| a| streak| of| four| consecutive| titles| from| |201|7| to| |202|0|.| His| last| championship| win| was| in| |202|0|,| which| is| more| recent| than| V|ettel|'s|.\n",
      "|3|.| **|Max| Ver|st|appen|**:| The| current| dominant| force| in| the| sport|,| with| four| consecutive| world| championships| from| |202|1| to| |202|4|.| He| is| in| top| form| and| has| a| strong| recent| record|.\n",
      "\n",
      "|Considering| the| recent| performance| and| championship| wins|,| I| would| recommend| the| following| driver| combination|:\n",
      "\n",
      "|**|Main| Driver|:| Max| Ver|st|appen|**\n",
      "|**|Support| Driver|:| Lewis| Hamilton|**\n",
      "\n",
      "|This| combination| brings| together| the| current| champion| (|Ver|st|appen|)| with| a| highly| experienced| and| successful| driver| (|Hamilton|)| who| can| provide| strong| support| and| potentially| challenge| for| wins|.| Sebastian| V|ettel|,| although| a| talented| driver|,| has| not| won| a| championship| in| over| a| decade|,| which| makes| him| a| less| appealing| choice| for| the| main| driver| role|.| However|,| he| could| still| be| considered| for| a| support| driver| role| if| you|'re| looking| for| an| experienced| driver| with| a| strong| pedigree|.||"
     ]
    }
   ],
   "execution_count": 9
  },
  {
   "cell_type": "markdown",
   "id": "36087549",
   "metadata": {},
   "source": [
    "## Prompt templates"
   ]
  },
  {
   "cell_type": "code",
   "id": "767eb0d2",
   "metadata": {
    "ExecuteTime": {
     "end_time": "2025-09-12T03:39:31.012672Z",
     "start_time": "2025-09-12T03:39:30.988689Z"
    }
   },
   "source": [
    "from langchain_core.prompts import ChatPromptTemplate\n",
    "\n",
    "system_template = \"Translate the following from English into {language}\"\n",
    "\n",
    "prompt_template = ChatPromptTemplate.from_messages(\n",
    "    [(\"system\", system_template), (\"user\", \"{text}\")]\n",
    ")\n",
    "\n",
    "print(prompt_template)"
   ],
   "outputs": [
    {
     "name": "stdout",
     "output_type": "stream",
     "text": [
      "input_variables=['language', 'text'] input_types={} partial_variables={} messages=[SystemMessagePromptTemplate(prompt=PromptTemplate(input_variables=['language'], input_types={}, partial_variables={}, template='Translate the following from English into {language}'), additional_kwargs={}), HumanMessagePromptTemplate(prompt=PromptTemplate(input_variables=['text'], input_types={}, partial_variables={}, template='{text}'), additional_kwargs={})]\n"
     ]
    }
   ],
   "execution_count": 11
  },
  {
   "cell_type": "code",
   "id": "563db791",
   "metadata": {
    "ExecuteTime": {
     "end_time": "2025-09-12T03:39:32.234415Z",
     "start_time": "2025-09-12T03:39:32.226961Z"
    }
   },
   "source": [
    "prompt = prompt_template.invoke({\"language\": \"Dutch\", \"text\": \"Yes! Oh my god!\"})\n",
    "\n",
    "prompt"
   ],
   "outputs": [
    {
     "data": {
      "text/plain": [
       "ChatPromptValue(messages=[SystemMessage(content='Translate the following from English into Dutch', additional_kwargs={}, response_metadata={}), HumanMessage(content='Yes! Oh my god!', additional_kwargs={}, response_metadata={})])"
      ]
     },
     "execution_count": 12,
     "metadata": {},
     "output_type": "execute_result"
    }
   ],
   "execution_count": 12
  },
  {
   "cell_type": "code",
   "id": "4b0cdb11",
   "metadata": {
    "ExecuteTime": {
     "end_time": "2025-09-12T03:39:38.138009Z",
     "start_time": "2025-09-12T03:39:38.131793Z"
    }
   },
   "source": [
    "prompt.to_messages()"
   ],
   "outputs": [
    {
     "data": {
      "text/plain": [
       "[SystemMessage(content='Translate the following from English into Dutch', additional_kwargs={}, response_metadata={}),\n",
       " HumanMessage(content='Yes! Oh my god!', additional_kwargs={}, response_metadata={})]"
      ]
     },
     "execution_count": 13,
     "metadata": {},
     "output_type": "execute_result"
    }
   ],
   "execution_count": 13
  },
  {
   "cell_type": "code",
   "id": "dae59198",
   "metadata": {
    "ExecuteTime": {
     "end_time": "2025-09-12T03:39:43.440354Z",
     "start_time": "2025-09-12T03:39:43.165106Z"
    }
   },
   "source": [
    "response = model.invoke(prompt)\n",
    "print(response.content)"
   ],
   "outputs": [
    {
     "name": "stdout",
     "output_type": "stream",
     "text": [
      "Ja! O mijn god!\n"
     ]
    }
   ],
   "execution_count": 14
  },
  {
   "cell_type": "markdown",
   "id": "a1778f56",
   "metadata": {},
   "source": [
    "# Structured Output\n",
    "\n",
    "https://python.langchain.com/docs/how_to/structured_output/"
   ]
  },
  {
   "metadata": {
    "ExecuteTime": {
     "end_time": "2025-09-12T03:40:54.891615Z",
     "start_time": "2025-09-12T03:40:54.880479Z"
    }
   },
   "cell_type": "code",
   "source": [
    "from langchain.chat_models import init_chat_model\n",
    "llm = init_chat_model(\"llama-3.3-70b-versatile\", model_provider=\"groq\")"
   ],
   "id": "8a409e26",
   "outputs": [],
   "execution_count": 15
  },
  {
   "cell_type": "code",
   "id": "83944031",
   "metadata": {
    "ExecuteTime": {
     "end_time": "2025-09-12T03:41:02.077187Z",
     "start_time": "2025-09-12T03:41:01.764559Z"
    }
   },
   "source": [
    "from typing import Optional\n",
    "\n",
    "from pydantic import BaseModel, Field\n",
    "\n",
    "\n",
    "# Pydantic outout structure\n",
    "class JokeFormat(BaseModel):\n",
    "    \"\"\"Joke to tell user.\"\"\"\n",
    "\n",
    "    setup: str = Field(description=\"The setup of the joke\")\n",
    "    punchline: str = Field(description=\"The punchline to the joke\")\n",
    "    rating: Optional[int] = Field(\n",
    "        default=None, description=\"How funny the joke is, from 1 to 10\"\n",
    "    )\n",
    "\n",
    "\n",
    "structured_llm = llm.with_structured_output(JokeFormat)\n",
    "\n",
    "joke = structured_llm.invoke(\"Tell me a joke about cats\")\n",
    "print(joke)"
   ],
   "outputs": [
    {
     "name": "stdout",
     "output_type": "stream",
     "text": [
      "setup='Why did the cat join a band?' punchline='Because it wanted to be a purr-cussionist' rating=8\n"
     ]
    }
   ],
   "execution_count": 16
  },
  {
   "cell_type": "code",
   "id": "129d5966",
   "metadata": {
    "ExecuteTime": {
     "end_time": "2025-09-12T03:41:09.490225Z",
     "start_time": "2025-09-12T03:41:09.268037Z"
    }
   },
   "source": [
    "#example\n",
    "\n",
    "from typing import Optional\n",
    "from pydantic import BaseModel, Field\n",
    "\n",
    "# Pydantic\n",
    "class AnimalFormat(BaseModel):\n",
    "    \"\"\"General description about a typical animal\"\"\"\n",
    "    weight: int = Field(description=\"average weight of the animal in kg\")\n",
    "    lifeExpectancy: int = Field(description=\"Average Life expectancy of the animal in years\")\n",
    "\n",
    "\n",
    "structured_llm = llm.with_structured_output(AnimalFormat)\n",
    "\n",
    "output = structured_llm.invoke(\"Tell me about human\")\n",
    "print(output)"
   ],
   "outputs": [
    {
     "name": "stdout",
     "output_type": "stream",
     "text": [
      "weight=62 lifeExpectancy=72\n"
     ]
    }
   ],
   "execution_count": 17
  },
  {
   "cell_type": "code",
   "id": "b3bed832",
   "metadata": {
    "ExecuteTime": {
     "end_time": "2025-09-12T03:46:29.069811Z",
     "start_time": "2025-09-12T03:46:28.322783Z"
    }
   },
   "source": [
    "# exercise: rag query\n",
    "\n",
    "# Exercise: TOY RAG prompts\n",
    "\n",
    "prompt_template = \"\"\"You are an assistant for question-answering tasks. Use the following pieces of retrieved context to answer the question. If you don't know the answer, just say that you don't know. Use three sentences maximum and keep the answer concise.\n",
    "Question: {question} \n",
    "Context: {context} \n",
    "Answer:\"\"\"\n",
    "\n",
    "# RAG external text\n",
    "file = open(\"./formula1.txt\")\n",
    "text = file.read()\n",
    "#text = text[-len(text)//10:]\n",
    "#print(text)\n",
    "\n",
    "# Pydantic\n",
    "class BookSummary(BaseModel):\n",
    "    \"\"\"A model to summarize a story book\"\"\"\n",
    "    summary: str = Field(description=\"A short summary of the book\")\n",
    "    listOfCharacters: list[str] = Field(description=\"List of characters in the book\")\n",
    "\n",
    "\n",
    "\n",
    "# example toy RAG\n",
    "prompt = ChatPromptTemplate([prompt_template])\n",
    "msg = prompt.invoke({\"question\":\"Summerize the book and give a list of main characters in the story.\", \"context\":text})\n",
    "\n",
    "\n",
    "structured_model = model.with_structured_output(BookSummary)\n",
    "\n",
    "output = structured_model.invoke(msg)\n",
    "print(output)"
   ],
   "outputs": [
    {
     "name": "stdout",
     "output_type": "stream",
     "text": [
      "summary=\"The story revolves around the mysterious disappearance of the Veridian family from their old mansion a century ago. The protagonist, Elias Thorne, a historian, uncovers the truth through a journal belonging to the eldest daughter, Elara, and discovers that the family didn't vanish but became part of the garden, transforming into something timeless and beautiful. The main characters include Elias Thorne, Elara, Finn, and the rest of the Veridian family\" listOfCharacters=['Elias Thorne', 'Elara', 'Finn', 'Mr. Veridian', 'Mrs. Veridian', 'Elderly Aunt']\n"
     ]
    }
   ],
   "execution_count": 19
  },
  {
   "cell_type": "code",
   "id": "572b8fda",
   "metadata": {
    "ExecuteTime": {
     "end_time": "2025-09-12T03:47:43.866611Z",
     "start_time": "2025-09-12T03:47:42.966407Z"
    }
   },
   "source": [
    "# Exercise: Generate a list of question and answers based on a given text\n",
    "\n",
    "prompt_template = \"\"\"You are an assistant for a research scholar. Based on the given article, list major points of the article. Don't user prior knowledge.\n",
    "Artile: {article} \n",
    "Major Points:\"\"\"\n",
    "\n",
    "# RAG external text\n",
    "file = open(\"./f1data.txt\")\n",
    "text = file.read()\n",
    "\n",
    "# example toy RAG\n",
    "prompt = ChatPromptTemplate([prompt_template])\n",
    "msg = prompt.invoke({\"article\":text})\n",
    "\n",
    "output = llm.invoke(msg)"
   ],
   "outputs": [],
   "execution_count": 20
  },
  {
   "cell_type": "code",
   "id": "0f5078d5",
   "metadata": {
    "ExecuteTime": {
     "end_time": "2025-09-12T03:47:45.369674Z",
     "start_time": "2025-09-12T03:47:45.367222Z"
    }
   },
   "source": [
    "print(output.content)"
   ],
   "outputs": [
    {
     "name": "stdout",
     "output_type": "stream",
     "text": [
      "Based on the given article, the major points are:\n",
      "\n",
      "1. **Introduction to Formula 1**: Formula 1 (F1) is the highest class of international single-seater auto racing, combining technology, strategy, and human skill.\n",
      "\n",
      "2. **The F1 Car**: F1 cars are a blend of power and precision, with a strict set of rules that teams must follow, and they utilize hybrid power units and advanced aerodynamics.\n",
      "\n",
      "3. **Hybrid Power Units**: F1 cars are powered by turbo-hybrid power units, which include a 1.6-liter turbocharged V6 engine and an Energy Recovery System (ERS) that recovers energy from braking and exhaust gases.\n",
      "\n",
      "4. **Aerodynamics and Downforce**: The cars' performance is dependent on aerodynamics, with features like front and rear wings, underbody, and diffuser creating significant downforce, and the Drag Reduction System (DRS) aiding in overtaking.\n",
      "\n",
      "5. **The Grand Prix Weekend**: A typical F1 race weekend is a three-day event, consisting of practice sessions on Friday, practice and qualifying on Saturday, and the Grand Prix on Sunday.\n",
      "\n",
      "6. **Key Players and Notable Records**: F1 has two championships, the Drivers' Championship and the Constructors' Championship, with notable drivers like Michael Schumacher, Lewis Hamilton, and Max Verstappen, and successful teams like Scuderia Ferrari, McLaren, and Mercedes-AMG.\n"
     ]
    }
   ],
   "execution_count": 21
  },
  {
   "cell_type": "code",
   "id": "0cedf35b",
   "metadata": {
    "ExecuteTime": {
     "end_time": "2025-09-12T03:49:32.187746Z",
     "start_time": "2025-09-12T03:49:32.044106Z"
    }
   },
   "source": [
    "from langchain_community.document_loaders import PyPDFLoader\n",
    "\n",
    "loader = PyPDFLoader(\"./strategy.pdf\")\n",
    "pages = []\n",
    "async for page in loader.alazy_load():\n",
    "    pages.append(page)"
   ],
   "outputs": [],
   "execution_count": 22
  },
  {
   "cell_type": "code",
   "id": "5975eca3",
   "metadata": {
    "ExecuteTime": {
     "end_time": "2025-09-12T03:49:33.879709Z",
     "start_time": "2025-09-12T03:49:33.876315Z"
    }
   },
   "source": [
    "pages[12].page_content"
   ],
   "outputs": [
    {
     "data": {
      "text/plain": [
       "'COLLABORA TE\\nCREA TE WIN\\n-WIN RELA TIONSHIPS WITH OUR PARTNERS'"
      ]
     },
     "execution_count": 23,
     "metadata": {},
     "output_type": "execute_result"
    }
   ],
   "execution_count": 23
  },
  {
   "cell_type": "markdown",
   "id": "b99b3c15",
   "metadata": {},
   "source": [
    "# More Bigger Prompting"
   ]
  },
  {
   "cell_type": "code",
   "id": "d9da3158",
   "metadata": {
    "ExecuteTime": {
     "end_time": "2025-09-12T03:50:07.168343Z",
     "start_time": "2025-09-12T03:50:07.164598Z"
    }
   },
   "source": [
    "question_template = \"\"\"Tell me a joke about: {topic}\n",
    "Write the response in the following format:\n",
    "\n",
    "# {{Title}}\n",
    "--------\n",
    "{{response}}\n",
    "\"\"\"\n",
    "question = question_template.format(topic=\"formula 1\")\n",
    "question\n"
   ],
   "outputs": [
    {
     "data": {
      "text/plain": [
       "'Tell me a joke about: formula 1\\nWrite the response in the following format:\\n\\n# {Title}\\n--------\\n{response}\\n'"
      ]
     },
     "execution_count": 24,
     "metadata": {},
     "output_type": "execute_result"
    }
   ],
   "execution_count": 24
  },
  {
   "cell_type": "code",
   "id": "eac5736a",
   "metadata": {
    "ExecuteTime": {
     "end_time": "2025-09-12T03:50:19.814384Z",
     "start_time": "2025-09-12T03:50:19.569104Z"
    }
   },
   "source": "response =  model.invoke(question_template.format(topic=\"formula 1\"))",
   "outputs": [],
   "execution_count": 25
  },
  {
   "cell_type": "code",
   "id": "9892307a",
   "metadata": {
    "ExecuteTime": {
     "end_time": "2025-09-12T03:50:21.533898Z",
     "start_time": "2025-09-12T03:50:21.528489Z"
    }
   },
   "source": [
    "from IPython.display import Markdown\n",
    "Markdown(response.content)"
   ],
   "outputs": [
    {
     "data": {
      "text/plain": [
       "<IPython.core.display.Markdown object>"
      ],
      "text/markdown": "# Formula for Laughs\n--------\nWhy did the Formula 1 driver bring a ladder to the track? Because he wanted to take his racing to the next level."
     },
     "execution_count": 26,
     "metadata": {},
     "output_type": "execute_result"
    }
   ],
   "execution_count": 26
  },
  {
   "cell_type": "markdown",
   "id": "ec349e40",
   "metadata": {},
   "source": [
    "## Example "
   ]
  },
  {
   "cell_type": "code",
   "id": "8d1de840",
   "metadata": {
    "ExecuteTime": {
     "end_time": "2025-09-12T03:51:07.915291Z",
     "start_time": "2025-09-12T03:51:06.475939Z"
    }
   },
   "source": [
    "prompt = \"\"\"You are a research assistant. You are tasked to find 4 subtopics for the research area {topic}. For each sub area, list 5 major research work done so far in this format:\n",
    "\n",
    "## {{Sub topic 1}}\n",
    "1. {{Work 1}}\n",
    "2. {{Work 2}}\n",
    "3. {{Work 3}}\n",
    "4. {{Work 4}}\n",
    "5. {{Work 6}}\n",
    "----\n",
    "## {{Sub topic 2}}\n",
    "1. {{Work 1}}\n",
    "2. {{Work 2}}\n",
    "3. {{Work 3}}\n",
    "4. {{Work 4}}\n",
    "5. {{Work 6}}\n",
    "----\n",
    "...\n",
    "## {{Sub topic 4}}\n",
    "1. {{Work 1}}\n",
    "2. {{Work 2}}\n",
    "3. {{Work 3}}\n",
    "4. {{Work 4}}\n",
    "5. {{Work 6}}\n",
    " \n",
    "\"\"\"\n",
    "\n",
    "response = model.invoke(prompt.format(topic=\"Quantum Computing for Machine Learning\"))\n",
    "from IPython.display import Markdown\n",
    "from IPython.display import Markdown\n",
    "Markdown(response.content)"
   ],
   "outputs": [
    {
     "data": {
      "text/plain": [
       "<IPython.core.display.Markdown object>"
      ],
      "text/markdown": "## Quantum Machine Learning Algorithms\n1. **Quantum k-Means**: A quantum algorithm for k-means clustering, which can potentially speed up the clustering process for large datasets.\n2. **Quantum Support Vector Machines**: A quantum algorithm for support vector machines, which can potentially improve the classification accuracy for certain types of datasets.\n3. **Quantum Neural Networks**: A quantum algorithm for neural networks, which can potentially speed up the training process for deep learning models.\n4. **Quantum k-Nearest Neighbors**: A quantum algorithm for k-nearest neighbors, which can potentially improve the classification accuracy for certain types of datasets.\n5. **Quantum Gradient Descent**: A quantum algorithm for gradient descent, which can potentially speed up the optimization process for machine learning models.\n\n----\n## Quantum Computing for Deep Learning\n1. **Quantum Convolutional Neural Networks**: A quantum algorithm for convolutional neural networks, which can potentially speed up the training process for image classification tasks.\n2. **Quantum Recurrent Neural Networks**: A quantum algorithm for recurrent neural networks, which can potentially speed up the training process for natural language processing tasks.\n3. **Quantum Generative Adversarial Networks**: A quantum algorithm for generative adversarial networks, which can potentially improve the generation quality for certain types of datasets.\n4. **Quantum Autoencoders**: A quantum algorithm for autoencoders, which can potentially improve the dimensionality reduction for certain types of datasets.\n5. **Quantum Restricted Boltzmann Machines**: A quantum algorithm for restricted Boltzmann machines, which can potentially improve the feature learning for certain types of datasets.\n\n----\n## Quantum Dimensionality Reduction\n1. **Quantum Principal Component Analysis**: A quantum algorithm for principal component analysis, which can potentially speed up the dimensionality reduction process for large datasets.\n2. **Quantum t-Distributed Stochastic Neighbor Embedding**: A quantum algorithm for t-distributed stochastic neighbor embedding, which can potentially improve the visualization quality for high-dimensional datasets.\n3. **Quantum Linear Discriminant Analysis**: A quantum algorithm for linear discriminant analysis, which can potentially improve the classification accuracy for certain types of datasets.\n4. **Quantum Multidimensional Scaling**: A quantum algorithm for multidimensional scaling, which can potentially improve the visualization quality for high-dimensional datasets.\n5. **Quantum Isomap**: A quantum algorithm for isomap, which can potentially improve the dimensionality reduction for certain types of datasets.\n\n----\n## Quantum Machine Learning for Computer Vision\n1. **Quantum Image Classification**: A quantum algorithm for image classification, which can potentially improve the classification accuracy for certain types of images.\n2. **Quantum Object Detection**: A quantum algorithm for object detection, which can potentially improve the detection accuracy for certain types of objects.\n3. **Quantum Image Segmentation**: A quantum algorithm for image segmentation, which can potentially improve the segmentation accuracy for certain types of images.\n4. **Quantum Image Generation**: A quantum algorithm for image generation, which can potentially improve the generation quality for certain types of images.\n5. **Quantum Facial Recognition**: A quantum algorithm for facial recognition, which can potentially improve the recognition accuracy for certain types of faces."
     },
     "execution_count": 27,
     "metadata": {},
     "output_type": "execute_result"
    }
   ],
   "execution_count": 27
  },
  {
   "cell_type": "markdown",
   "id": "cafd3aa7",
   "metadata": {},
   "source": [
    "## Example with sources"
   ]
  },
  {
   "cell_type": "code",
   "id": "88348804",
   "metadata": {
    "ExecuteTime": {
     "end_time": "2025-09-12T03:52:28.168255Z",
     "start_time": "2025-09-12T03:52:24.791872Z"
    }
   },
   "source": [
    "prompt_template = \"\"\"You are an expert technical writer. \n",
    "            \n",
    "Your task is to create a short report on the topic {focus}. Divide the report into easily digestable sections. You have to use prior knowledge. While writing the report use the following instructions:\n",
    "        \n",
    "1. Create a report structure using markdown formatting: Create a minimum of 4 sections.\n",
    "- Use ## for the section title\n",
    "- Use ### for sub-section headers\n",
    "        \n",
    "2. Write the report following this structure:\n",
    "a. Title (## header)\n",
    "b. Summary (### header)\n",
    "c. Sources (### header)\n",
    "\n",
    "3. Make your title engaging based upon the focus area of the analyst: \n",
    "{focus}\n",
    "\n",
    "4. Write a summary section:\n",
    "- Set up summary with general background / context related to the focus area of the analyst\n",
    "- Emphasize what is novel, interesting, or surprising about insights gathered from the interview\n",
    "- Create a numbered list of source documents, as you use them\n",
    "- Do not mention the names of interviewers or experts\n",
    "- Aim for approximately 2000 words maximum\n",
    "- Use numbered sources in your report (e.g., [1], [2]) based on information from source documents\n",
    "        \n",
    "5. Write a Sources section:\n",
    "- Include all sources used in your report\n",
    "- Provide full links to relevant websites or specific document paths\n",
    "- Separate each source by a newline. Use two spaces at the end of each line to create a newline in Markdown.\n",
    "- It will look like:\n",
    "\n",
    "### Sources\n",
    "- [1] Link or Document name\n",
    "- [2] Link or Document name\n",
    "\n",
    "6. Be sure to combine sources. For example this is not correct:\n",
    "\n",
    "[3] https://ai.meta.com/blog/meta-llama-3-1/\n",
    "[4] https://ai.meta.com/blog/meta-llama-3-1/\n",
    "\n",
    "There should be no redundant sources. It should simply be:\n",
    "\n",
    "[3] https://ai.meta.com/blog/meta-llama-3-1/\n",
    "        \n",
    "7. Final review:\n",
    "- Ensure the report follows the required structure\n",
    "- Include no preamble before the title of the report\n",
    "- Check that all guidelines have been followed\n",
    "\n",
    "\"\"\"\n",
    "\n",
    "\n",
    "\n",
    "response = model.invoke(prompt_template.format(focus=\"Neuromorphic Computing for Machine Learning\"))\n",
    "from IPython.display import Markdown\n",
    "Markdown(response.content)"
   ],
   "outputs": [
    {
     "data": {
      "text/plain": [
       "<IPython.core.display.Markdown object>"
      ],
      "text/markdown": "## Neuromorphic Computing for Machine Learning\n### Summary\nNeuromorphic computing is an emerging field that involves the development of computer systems that mimic the structure and function of the human brain. This field has gained significant attention in recent years due to its potential to revolutionize machine learning. Traditional computing systems are based on the von Neumann architecture, which is not well-suited for machine learning tasks that require parallel processing and adaptive learning. Neuromorphic computing, on the other hand, is inspired by the brain's neural networks and is designed to provide a more efficient and adaptive way of processing information [1].\n\nThe human brain is a complex and highly efficient system that is capable of processing vast amounts of information in parallel. It is estimated that the brain contains over 86 billion neurons, each of which can communicate with thousands of other neurons [2]. This complex network of neurons allows the brain to learn and adapt in a highly efficient manner, making it an ideal model for machine learning systems. Neuromorphic computing systems are designed to mimic this structure and function, using artificial neural networks to process information in a parallel and adaptive manner.\n\nOne of the key advantages of neuromorphic computing is its ability to provide real-time processing and learning. Traditional machine learning systems require large amounts of data to be processed in batches, which can be time-consuming and inefficient. Neuromorphic systems, on the other hand, can process information in real-time, allowing for faster and more adaptive learning [3]. This makes them ideal for applications such as robotics, autonomous vehicles, and smart homes, where real-time processing and learning are critical.\n\nSome of the key technologies that are driving the development of neuromorphic computing include memristors, spintronics, and neuromorphic chips [4]. Memristors are a type of memory device that can store data in a non-volatile manner, allowing for more efficient and adaptive processing. Spintronics is a technology that uses the spin of electrons to process information, providing a more efficient and scalable way of processing data. Neuromorphic chips are specialized chips that are designed to mimic the structure and function of the brain, providing a highly efficient and adaptive way of processing information.\n\nThe potential applications of neuromorphic computing are vast and varied. Some of the key areas where neuromorphic computing is likely to have a significant impact include:\n1. Robotics: Neuromorphic computing can provide real-time processing and learning, allowing robots to adapt and learn in complex and dynamic environments.\n2. Autonomous vehicles: Neuromorphic computing can provide the real-time processing and learning required for autonomous vehicles to navigate complex and dynamic environments.\n3. Smart homes: Neuromorphic computing can provide the real-time processing and learning required for smart homes to adapt and learn the preferences and habits of their occupants.\n4. Healthcare: Neuromorphic computing can provide the real-time processing and learning required for medical devices to diagnose and treat complex medical conditions.\n\n### Sources\n- [1] https://www.mitpressjournals.org/doi/abs/10.1162/neco_a_01325 \n- [2] https://www.ncbi.nlm.nih.gov/pmc/articles/PMC4087181/ \n- [3] https://ieeexplore.ieee.org/abstract/document/7551405 \n- [4] https://www.nature.com/articles/s41598-019-40737-7 \n\n## Technical Overview\nNeuromorphic computing is a complex and multidisciplinary field that involves the development of computer systems that mimic the structure and function of the human brain. The technical overview of neuromorphic computing involves the development of artificial neural networks, memristors, spintronics, and neuromorphic chips. These technologies are designed to provide a highly efficient and adaptive way of processing information, allowing for real-time learning and processing.\n\n### Artificial Neural Networks\nArtificial neural networks are a key component of neuromorphic computing systems. They are designed to mimic the structure and function of the brain's neural networks, providing a highly efficient and adaptive way of processing information. Artificial neural networks consist of layers of interconnected nodes or \"neurons,\" which process and transmit information in a parallel and adaptive manner.\n\n### Memristors\nMemristors are a type of memory device that can store data in a non-volatile manner, allowing for more efficient and adaptive processing. They are designed to mimic the synapses of the brain, providing a highly efficient and scalable way of processing data. Memristors have a number of advantages over traditional memory devices, including low power consumption, high density, and fast switching speeds.\n\n### Spintronics\nSpintronics is a technology that uses the spin of electrons to process information, providing a more efficient and scalable way of processing data. Spintronics is designed to mimic the spin-based processing of the brain, allowing for highly efficient and adaptive processing. Spintronics has a number of advantages over traditional computing technologies, including low power consumption, high density, and fast switching speeds.\n\n## Applications and Future Directions\nNeuromorphic computing has a number of potential applications, including robotics, autonomous vehicles, smart homes, and healthcare. These applications require real-time processing and learning, making neuromorphic computing an ideal solution. The future directions of neuromorphic computing involve the development of more advanced artificial neural networks, memristors, spintronics, and neuromorphic chips.\n\n### Robotics\nNeuromorphic computing can provide real-time processing and learning, allowing robots to adapt and learn in complex and dynamic environments. This makes neuromorphic computing an ideal solution for robotics applications, including industrial robotics, service robotics, and autonomous robots.\n\n### Autonomous Vehicles\nNeuromorphic computing can provide the real-time processing and learning required for autonomous vehicles to navigate complex and dynamic environments. This makes neuromorphic computing an ideal solution for autonomous vehicle applications, including self-driving cars, drones, and other autonomous systems.\n\n### Smart Homes\nNeuromorphic computing can provide the real-time processing and learning required for smart homes to adapt and learn the preferences and habits of their occupants. This makes neuromorphic computing an ideal solution for smart home applications, including home automation, energy management, and security systems.\n\n## Conclusion\nNeuromorphic computing is an emerging field that involves the development of computer systems that mimic the structure and function of the human brain. It has a number of potential applications, including robotics, autonomous vehicles, smart homes, and healthcare. The technical overview of neuromorphic computing involves the development of artificial neural networks, memristors, spintronics, and neuromorphic chips. These technologies are designed to provide a highly efficient and adaptive way of processing information, allowing for real-time learning and processing. The future directions of neuromorphic computing involve the development of more advanced artificial neural networks, memristors, spintronics, and neuromorphic chips."
     },
     "execution_count": 28,
     "metadata": {},
     "output_type": "execute_result"
    }
   ],
   "execution_count": 28
  },
  {
   "cell_type": "code",
   "id": "c7b0e8bd",
   "metadata": {
    "ExecuteTime": {
     "end_time": "2025-09-12T03:52:53.695853Z",
     "start_time": "2025-09-12T03:52:50.052427Z"
    }
   },
   "source": [
    "prompt_template=\"\"\"\n",
    "Write a detailed technical report on the mathematical topic: {topic}.\n",
    "\n",
    "Structure the report into the following sections, each clearly separated with appropriate Markdown headings (#, ##):\n",
    "\n",
    "# Introduction\n",
    "\n",
    "{{Give a clear, concise overview of the topic.}}\n",
    "\n",
    "{{Explain its significance and typical applications.}}\n",
    "\n",
    "# Mathematical Theory\n",
    "\n",
    "{{Describe the core mathematical foundations in detail.}}\n",
    "\n",
    "{{Include important definitions, theorems, proofs, and examples where relevant.}}\n",
    "\n",
    "# Latest Open Problems\n",
    "\n",
    "{{Discuss major current research challenges or unresolved questions in the field.}}\n",
    "\n",
    "# Reference recent papers or developments (with citations).\n",
    "\n",
    "# Future Directions\n",
    "\n",
    "{{Suggest possible paths for future research or applications.}}\n",
    "\n",
    "{{Discuss emerging trends and technologies that might impact this area.}}\n",
    "\n",
    "# References\n",
    "\n",
    "List all sources cited, preferably in a simple numbered list or BibTeX-style.\n",
    "\n",
    "Use appropriate LaTeX-style formatting (with $$ for equations if needed) for mathematical expressions inside the Markdown.\n",
    "Write in a formal and precise tone, suitable for a technical audience.\n",
    "\"\"\"\n",
    "\n",
    "\n",
    "response = model.invoke(prompt_template.format(topic=\"Discrete Mathematics\"))\n",
    "from IPython.display import Markdown\n",
    "Markdown(response.content)"
   ],
   "outputs": [
    {
     "data": {
      "text/plain": [
       "<IPython.core.display.Markdown object>"
      ],
      "text/markdown": "# Introduction\nDiscrete mathematics is a branch of mathematics that deals with mathematical structures that are fundamentally discrete, in the sense that they are composed of distinct, individual elements, rather than being continuous. This field has gained significant importance in recent years due to its wide range of applications in computer science, cryptography, coding theory, and optimization problems. Discrete mathematics provides the mathematical foundations for many computational systems, including algorithms, data structures, and software design. Its significance lies in its ability to model and analyze complex systems, making it a crucial tool for problem-solving in various fields.\n\nDiscrete mathematics has numerous applications, including computer networks, database systems, and coding theory. For instance, graph theory, a subfield of discrete mathematics, is used to model and analyze network structures, such as social networks, transportation systems, and communication networks. Additionally, discrete mathematics is essential in cryptography, as it provides the mathematical foundations for secure data transmission and encryption methods.\n\n## Significance and Applications\nThe significance of discrete mathematics can be seen in its ability to provide a framework for solving complex problems in various fields. Its applications include:\n\n* Computer science: discrete mathematics provides the mathematical foundations for algorithms, data structures, and software design.\n* Cryptography: discrete mathematics is used to develop secure encryption methods and cryptographic protocols.\n* Coding theory: discrete mathematics is used to develop error-correcting codes and data compression algorithms.\n* Optimization problems: discrete mathematics is used to solve optimization problems, such as scheduling, resource allocation, and network flow problems.\n\n# Mathematical Theory\nThe core mathematical foundations of discrete mathematics include set theory, graph theory, number theory, and combinatorics. These areas provide the mathematical framework for analyzing and solving problems in discrete mathematics.\n\n## Set Theory\nSet theory is a fundamental area of discrete mathematics that deals with the study of sets, which are collections of distinct objects. Set theory provides the mathematical foundations for many areas of discrete mathematics, including graph theory and combinatorics. The basic concepts in set theory include:\n\n* Sets: a collection of distinct objects.\n* Subsets: a set whose elements are all elements of another set.\n* Union: the set of all elements that are in at least one of two sets.\n* Intersection: the set of all elements that are in both of two sets.\n\nThe set operations can be represented using the following equations:\n$$A \\cup B = \\{x \\mid x \\in A \\text{ or } x \\in B\\}$$\n$$A \\cap B = \\{x \\mid x \\in A \\text{ and } x \\in B\\}$$\n\n## Graph Theory\nGraph theory is a subfield of discrete mathematics that deals with the study of graphs, which are collections of vertices connected by edges. Graph theory provides the mathematical framework for modeling and analyzing network structures, such as social networks, transportation systems, and communication networks. The basic concepts in graph theory include:\n\n* Graphs: a collection of vertices connected by edges.\n* Adjacency matrix: a matrix that represents the connections between vertices in a graph.\n* Graph isomorphism: two graphs are isomorphic if they have the same structure.\n\nThe adjacency matrix of a graph can be represented using the following equation:\n$$A = \\begin{bmatrix}\na_{11} & a_{12} & \\cdots & a_{1n} \\\\\na_{21} & a_{22} & \\cdots & a_{2n} \\\\\n\\vdots & \\vdots & \\ddots & \\vdots \\\\\na_{n1} & a_{n2} & \\cdots & a_{nn}\n\\end{bmatrix}$$\nwhere $a_{ij} = 1$ if there is an edge between vertices $i$ and $j$, and $a_{ij} = 0$ otherwise.\n\n## Number Theory\nNumber theory is a subfield of discrete mathematics that deals with the study of properties of integers and other whole numbers. Number theory provides the mathematical foundations for many areas of discrete mathematics, including cryptography and coding theory. The basic concepts in number theory include:\n\n* Divisibility: an integer $a$ is divisible by an integer $b$ if there exists an integer $c$ such that $a = bc$.\n* Primality: an integer $p$ is prime if it is divisible only by $1$ and itself.\n* Congruences: two integers $a$ and $b$ are congruent modulo $n$ if $a \\equiv b \\pmod{n}$.\n\nThe congruence relation can be represented using the following equation:\n$$a \\equiv b \\pmod{n} \\iff a - b = kn$$\nfor some integer $k$.\n\n## Combinatorics\nCombinatorics is a subfield of discrete mathematics that deals with the study of counting and arranging objects in various ways. Combinatorics provides the mathematical framework for solving problems in many areas of discrete mathematics, including graph theory and number theory. The basic concepts in combinatorics include:\n\n* Permutations: a permutation of a set of objects is an arrangement of the objects in a specific order.\n* Combinations: a combination of a set of objects is a selection of objects from the set, without regard to order.\n* Recurrence relations: a recurrence relation is a mathematical equation that defines a sequence of numbers recursively.\n\nThe recurrence relation for the Fibonacci sequence can be represented using the following equation:\n$$F(n) = F(n-1) + F(n-2)$$\nfor $n \\geq 2$, with initial conditions $F(0) = 0$ and $F(1) = 1$.\n\n# Latest Open Problems\nThere are many open problems in discrete mathematics, including:\n\n* The P versus NP problem: this problem deals with the relationship between computational complexity and verifiability.\n* The traveling salesman problem: this problem deals with finding the shortest possible tour that visits a set of cities and returns to the starting city.\n* The knapsack problem: this problem deals with finding the optimal subset of items to include in a knapsack of limited capacity.\n\nRecent papers on these topics include [1], [2], and [3]. These papers provide new insights and approaches to solving these problems, and demonstrate the ongoing research efforts in discrete mathematics.\n\n# Future Directions\nDiscrete mathematics is a rapidly evolving field, with many emerging trends and technologies that are expected to impact this area. Some possible future directions for research in discrete mathematics include:\n\n* Quantum computing: the development of quantum computers is expected to have a significant impact on discrete mathematics, particularly in areas such as cryptography and coding theory.\n* Artificial intelligence: the development of artificial intelligence and machine learning algorithms is expected to have a significant impact on discrete mathematics, particularly in areas such as graph theory and combinatorics.\n* Network science: the study of complex networks is expected to continue to be an active area of research in discrete mathematics, with applications in many fields, including social networks, transportation systems, and communication networks.\n\n# References\n1. S. Cook, \"The P versus NP problem\", Journal of Computer and System Sciences, vol. 77, no. 2, pp. 267-276, 2011.\n2. M. Garey and D. Johnson, \"Computers and Intractability: A Guide to the Theory of NP-Completeness\", W.H. Freeman and Company, 1979.\n3. D. Knuth, \"The Art of Computer Programming, Volume 4A: Combinatorial Algorithms, Part 1\", Addison-Wesley, 2011."
     },
     "execution_count": 29,
     "metadata": {},
     "output_type": "execute_result"
    }
   ],
   "execution_count": 29
  },
  {
   "cell_type": "code",
   "execution_count": null,
   "id": "f46a4501",
   "metadata": {},
   "outputs": [],
   "source": []
  }
 ],
 "metadata": {
  "kernelspec": {
   "display_name": "langgraph-academy",
   "language": "python",
   "name": "python3"
  },
  "language_info": {
   "codemirror_mode": {
    "name": "ipython",
    "version": 3
   },
   "file_extension": ".py",
   "mimetype": "text/x-python",
   "name": "python",
   "nbconvert_exporter": "python",
   "pygments_lexer": "ipython3",
   "version": "3.11.11"
  }
 },
 "nbformat": 4,
 "nbformat_minor": 5
}
