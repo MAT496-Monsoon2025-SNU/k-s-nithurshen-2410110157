{
 "cells": [
  {
   "cell_type": "markdown",
   "id": "45867d0a",
   "metadata": {},
   "source": [
    "## RAG with discussion on Research Articles"
   ]
  },
  {
   "cell_type": "code",
   "id": "9fa7ba87",
   "metadata": {
    "ExecuteTime": {
     "end_time": "2025-09-12T04:09:02.437641Z",
     "start_time": "2025-09-12T04:09:02.430139Z"
    }
   },
   "source": [
    "import os\n",
    "from dotenv import load_dotenv\n",
    "load_dotenv()"
   ],
   "outputs": [
    {
     "data": {
      "text/plain": [
       "True"
      ]
     },
     "execution_count": 1,
     "metadata": {},
     "output_type": "execute_result"
    }
   ],
   "execution_count": 1
  },
  {
   "cell_type": "code",
   "id": "d2fe9474",
   "metadata": {
    "ExecuteTime": {
     "end_time": "2025-09-12T04:17:03.962891Z",
     "start_time": "2025-09-12T04:17:03.372071Z"
    }
   },
   "source": [
    "from langchain_community.document_loaders import UnstructuredPDFLoader\n",
    "\n",
    "file_path = \"./snehPaper.pdf\"\n",
    "loader = UnstructuredPDFLoader(file_path)\n",
    "docs = loader.load()"
   ],
   "outputs": [],
   "execution_count": 14
  },
  {
   "cell_type": "code",
   "id": "35ebfe97",
   "metadata": {
    "ExecuteTime": {
     "end_time": "2025-09-12T04:17:25.912935Z",
     "start_time": "2025-09-12T04:17:20.509354Z"
    }
   },
   "source": [
    "from langchain_text_splitters import RecursiveCharacterTextSplitter\n",
    "docs = []\n",
    "text_splitter = RecursiveCharacterTextSplitter(\n",
    "    chunk_size=1000,\n",
    "    chunk_overlap=200,\n",
    "    add_start_index=True,\n",
    ")\n",
    "all_splits = text_splitter.split_documents(docs)\n",
    "from langchain_community.embeddings import HuggingFaceEmbeddings\n",
    "embeddings = HuggingFaceEmbeddings(model_name=\"sentence-transformers/all-MiniLM-L6-v2\")\n",
    "from langchain_community.vectorstores import InMemoryVectorStore\n",
    "vector_store = InMemoryVectorStore(embeddings)\n",
    "document_ids = vector_store.add_documents(documents=all_splits)"
   ],
   "outputs": [],
   "execution_count": 18
  },
  {
   "cell_type": "code",
   "id": "d70fbd7a",
   "metadata": {
    "ExecuteTime": {
     "end_time": "2025-09-12T04:17:28.475871Z",
     "start_time": "2025-09-12T04:17:28.472481Z"
    }
   },
   "source": [
    "all_splits"
   ],
   "outputs": [
    {
     "data": {
      "text/plain": [
       "[]"
      ]
     },
     "execution_count": 20,
     "metadata": {},
     "output_type": "execute_result"
    }
   ],
   "execution_count": 20
  },
  {
   "cell_type": "code",
   "id": "69edec40",
   "metadata": {
    "ExecuteTime": {
     "end_time": "2025-09-12T04:17:29.868227Z",
     "start_time": "2025-09-12T04:17:29.865340Z"
    }
   },
   "source": [
    "#question = \"Tell me about Randheer Singh?\"\n",
    "question = \"What are the major contribution of this paper?\""
   ],
   "outputs": [],
   "execution_count": 21
  },
  {
   "cell_type": "code",
   "id": "56ffc470",
   "metadata": {
    "ExecuteTime": {
     "end_time": "2025-09-12T04:17:31.154774Z",
     "start_time": "2025-09-12T04:17:31.127941Z"
    }
   },
   "source": [
    "# extract chunks which matches with your query\n",
    "search_results = vector_store.similarity_search_with_score(question, k=10)\n",
    "\n",
    "# conbine text from differrent chunks into one long string\n",
    "doc_content = \"\\n\\n\".join(doc.page_content for (doc,score) in search_results)"
   ],
   "outputs": [],
   "execution_count": 22
  },
  {
   "cell_type": "code",
   "id": "d3fc42b1",
   "metadata": {
    "ExecuteTime": {
     "end_time": "2025-09-12T04:17:52.983505Z",
     "start_time": "2025-09-12T04:17:51.593334Z"
    }
   },
   "source": [
    "# RAG promt template\n",
    "prompt_template = \"\"\"You are an assistant to a Mathematiccian. Use the following pieces of retrieved context to answer the question. Use no more than 500 words to summerize your answer.\n",
    "Question: {question} \n",
    "Context: {context} \n",
    "Answer:\"\"\"\n",
    "\n",
    "# make the LLM read see the prompt, and analyse the retrieved document, and generate response\n",
    "\n",
    "from langchain.chat_models import init_chat_model\n",
    "llm = init_chat_model(\"llama-3.3-70b-versatile\", model_provider=\"groq\")\n",
    "\n",
    "response = llm.invoke(prompt_template.format(\n",
    "    context=doc_content,\n",
    "    question=question))\n",
    "    \n",
    "print(response.content)"
   ],
   "outputs": [
    {
     "name": "stdout",
     "output_type": "stream",
     "text": [
      "Based on the provided context, which unfortunately is empty, I'll provide a general framework for answering the question.\n",
      "\n",
      "To determine the major contributions of a paper, one would typically look for the following:\n",
      "\n",
      "1. **Introduction of New Concepts or Theories**: Does the paper introduce novel mathematical concepts, models, or theories that advance the field?\n",
      "2. **Solution to a Long-Standing Problem**: Does the paper provide a solution to a well-known, long-standing problem in mathematics?\n",
      "3. **Development of New Methods or Techniques**: Are new mathematical methods, algorithms, or techniques presented that can be applied to solve problems in the field?\n",
      "4. **Advancements in Existing Fields**: Does the paper make significant contributions to an existing area of mathematics, such as algebra, geometry, or analysis?\n",
      "5. **Interdisciplinary Contributions**: Does the paper demonstrate the application of mathematical techniques to other fields, such as physics, computer science, or biology?\n",
      "\n",
      "Without specific details from the context, it's challenging to provide a precise answer. However, in general, the major contributions of a mathematical paper could include:\n",
      "\n",
      "- **Theoretical Foundations**: Establishing or advancing theoretical foundations in a specific area of mathematics.\n",
      "- **Problem Solving**: Providing solutions to open problems or conjectures.\n",
      "- **Methodological Innovations**: Introducing new methodologies or tools that enhance the ability to analyze or solve mathematical problems.\n",
      "- **Interdisciplinary Applications**: Demonstrating how mathematical concepts or techniques can be applied to solve problems in other disciplines.\n",
      "\n",
      "To accurately assess the contributions of a specific paper, one would need to examine its abstract, introduction, and conclusions, as well as the impact it has on the field as discussed in the body of the paper and any subsequent literature that cites it.\n"
     ]
    }
   ],
   "execution_count": 24
  },
  {
   "cell_type": "code",
   "id": "93019940",
   "metadata": {
    "ExecuteTime": {
     "end_time": "2025-09-12T04:18:01.219237Z",
     "start_time": "2025-09-12T04:18:01.215250Z"
    }
   },
   "source": [
    "from IPython.display import Markdown\n",
    "Markdown(response.content)"
   ],
   "outputs": [
    {
     "data": {
      "text/plain": [
       "<IPython.core.display.Markdown object>"
      ],
      "text/markdown": "Based on the provided context, which unfortunately is empty, I'll provide a general framework for answering the question.\n\nTo determine the major contributions of a paper, one would typically look for the following:\n\n1. **Introduction of New Concepts or Theories**: Does the paper introduce novel mathematical concepts, models, or theories that advance the field?\n2. **Solution to a Long-Standing Problem**: Does the paper provide a solution to a well-known, long-standing problem in mathematics?\n3. **Development of New Methods or Techniques**: Are new mathematical methods, algorithms, or techniques presented that can be applied to solve problems in the field?\n4. **Advancements in Existing Fields**: Does the paper make significant contributions to an existing area of mathematics, such as algebra, geometry, or analysis?\n5. **Interdisciplinary Contributions**: Does the paper demonstrate the application of mathematical techniques to other fields, such as physics, computer science, or biology?\n\nWithout specific details from the context, it's challenging to provide a precise answer. However, in general, the major contributions of a mathematical paper could include:\n\n- **Theoretical Foundations**: Establishing or advancing theoretical foundations in a specific area of mathematics.\n- **Problem Solving**: Providing solutions to open problems or conjectures.\n- **Methodological Innovations**: Introducing new methodologies or tools that enhance the ability to analyze or solve mathematical problems.\n- **Interdisciplinary Applications**: Demonstrating how mathematical concepts or techniques can be applied to solve problems in other disciplines.\n\nTo accurately assess the contributions of a specific paper, one would need to examine its abstract, introduction, and conclusions, as well as the impact it has on the field as discussed in the body of the paper and any subsequent literature that cites it."
     },
     "execution_count": 25,
     "metadata": {},
     "output_type": "execute_result"
    }
   ],
   "execution_count": 25
  },
  {
   "cell_type": "code",
   "execution_count": null,
   "id": "ad03a3ca",
   "metadata": {},
   "outputs": [],
   "source": []
  }
 ],
 "metadata": {
  "kernelspec": {
   "display_name": "langgraph-academy",
   "language": "python",
   "name": "python3"
  },
  "language_info": {
   "codemirror_mode": {
    "name": "ipython",
    "version": 3
   },
   "file_extension": ".py",
   "mimetype": "text/x-python",
   "name": "python",
   "nbconvert_exporter": "python",
   "pygments_lexer": "ipython3",
   "version": "3.11.11"
  }
 },
 "nbformat": 4,
 "nbformat_minor": 5
}
