{
 "cells": [
  {
   "cell_type": "code",
   "id": "682c4c87",
   "metadata": {
    "ExecuteTime": {
     "end_time": "2025-08-28T09:17:11.890507Z",
     "start_time": "2025-08-28T09:17:11.883440Z"
    }
   },
   "source": [
    "from dotenv import load_dotenv\n",
    "load_dotenv()"
   ],
   "outputs": [
    {
     "data": {
      "text/plain": [
       "True"
      ]
     },
     "execution_count": 1,
     "metadata": {},
     "output_type": "execute_result"
    }
   ],
   "execution_count": 1
  },
  {
   "cell_type": "code",
   "id": "a0e461e5",
   "metadata": {
    "ExecuteTime": {
     "end_time": "2025-08-28T09:32:26.408928Z",
     "start_time": "2025-08-28T09:32:26.391541Z"
    }
   },
   "source": [
    "from langchain.chat_models import init_chat_model\n",
    "\n",
    "model_1 = init_chat_model(\"llama-3.1-8b-instant\", model_provider=\"groq\")\n",
    "model_2 = init_chat_model(\"openai/gpt-oss-120b\", model_provider=\"groq\")"
   ],
   "outputs": [],
   "execution_count": 7
  },
  {
   "cell_type": "code",
   "id": "4a9c12bf",
   "metadata": {
    "ExecuteTime": {
     "end_time": "2025-08-28T09:34:26.087243Z",
     "start_time": "2025-08-28T09:34:24.698974Z"
    }
   },
   "source": "model_1.invoke(\"Give me questions to quantify someone's IQ?\")",
   "outputs": [
    {
     "data": {
      "text/plain": [
       "AIMessage(content='**Please note that IQ tests are not always an accurate measure of intelligence and should be used with caution. They also have cultural biases and may not reflect real-world intelligence. Additionally, these questions are not a comprehensive or official IQ test.**\\n\\nHere are some sample questions to help quantify a person\\'s problem-solving skills, reasoning, and pattern recognition:\\n\\n**Section 1: Logic and Reasoning**\\n\\n1. A snail is at the bottom of a 20-foot well. Each day, it climbs up 3 feet, but at night, it slips back 2 feet. How many days will it take for the snail to reach the top of the well?\\n2. A bat and a ball together cost $1.10. The bat costs $1.00 more than the ball. How much does the ball cost?\\n3. You are in a room with three light switches. Each switch corresponds to one of three light bulbs in a room. Each light bulb is off at the start. You can turn the lights on and off as many times as you want, but you can only enter the room one time to observe the bulbs. How can you figure out which switch controls which light bulb?\\n\\n**Section 2: Pattern Recognition**\\n\\n1. Complete the pattern: 2, 4, 8, 16, 32, ?\\n2. Identify the next shape in the sequence:\\n   A. Square, Triangle, Pentagram, ?\\n   B. Circle, Square, Triangle, ?\\n   C. Triangle, Square, Circle, ?\\n\\n**Section 3: Verbal Comprehension**\\n\\n1. If a word is represented by six letters, and the first three letters are \"CAT,\" what is the word?\\n2. A woman has two coins that add up to 30 cents. One coin is not a nickel. What are the two coins?\\n3. A man is looking at a photograph of someone. His friend asks him, \"Who is in the picture?\" The man replies, \"Brothers and sisters, I have none. But that man\\'s father is my father\\'s son.\" Who is in the picture?\\n\\n**Section 4: Spatial Reasoning**\\n\\n1. A cube has a side length of 4 inches. What is the volume of the cube?\\n2. A circular plate has a diameter of 12 inches. What is the area of the plate?\\n3. A rectangular prism has a length of 6 inches, a width of 4 inches, and a height of 2 inches. What is the volume of the prism?\\n\\n**Instructions:**\\n- Allocate 30-60 minutes to complete each section.\\n- Provide a clear and concise answer for each question.\\n- Use the following scoring system:\\n  - 0-2 points for incorrect or incomplete answers\\n  - 3-5 points for partially correct answers\\n  - 6-10 points for correct and complete answers\\n\\n**Caution:**\\n- These questions are not a comprehensive or official IQ test.\\n- The results should not be used as the sole measure of intelligence or cognitive abilities.\\n- This is for entertainment purposes only.\\n\\n**Scoring and Interpretation:**\\n- To score these questions, you can use the scoring system above.\\n- Add up the points for each section to get a total score.\\n- Compare the total score to the following ranges to estimate the IQ level:\\n  - 20-40 points: Average intelligence (IQ 85-115)\\n  - 41-60 points: Above-average intelligence (IQ 116-130)\\n  - 61-80 points: Highly intelligent (IQ 131-145)\\n  - 81-100 points: Extremely intelligent (IQ 146-160)\\n  - 101+ points: Genius-level intelligence (IQ 161+)\\n\\n**Again, please note that these questions are not a comprehensive or official IQ test. The results should not be used as the sole measure of intelligence or cognitive abilities.**', additional_kwargs={}, response_metadata={'token_usage': {'completion_tokens': 804, 'prompt_tokens': 44, 'total_tokens': 848, 'completion_time': 1.094500279, 'prompt_time': 0.007164609, 'queue_time': 0.05480238, 'total_time': 1.101664888}, 'model_name': 'llama-3.1-8b-instant', 'system_fingerprint': 'fp_2115512ff6', 'service_tier': 'on_demand', 'finish_reason': 'stop', 'logprobs': None}, id='run--d9a03b25-64de-427d-a9d2-abfdad535d51-0', usage_metadata={'input_tokens': 44, 'output_tokens': 804, 'total_tokens': 848})"
      ]
     },
     "execution_count": 9,
     "metadata": {},
     "output_type": "execute_result"
    }
   ],
   "execution_count": 9
  },
  {
   "metadata": {
    "ExecuteTime": {
     "end_time": "2025-08-28T09:35:30.824129Z",
     "start_time": "2025-08-28T09:35:29.610523Z"
    }
   },
   "cell_type": "code",
   "source": "model_2.invoke(\"A snail is at the bottom of a 20-foot well. Each day, it climbs up 3 feet, but at night, it slips back 2 feet. How many days will it take for the snail to reach the top of the well?\").content",
   "id": "499544d91b7db16b",
   "outputs": [
    {
     "data": {
      "text/plain": [
       "'**Answer: 18 days**\\n\\n**Explanation**\\n\\n- Each full day (day\\u202f+\\u202fnight) the snail makes a net progress of  \\n  \\\\(3\\\\text{ ft (up)} - 2\\\\text{ ft (down)} = 1\\\\text{ ft}\\\\).\\n\\n- However, on the day it finally reaches the top, it climbs the 3\\u202fft **before** it would ever slip back at night. So we must find the first day when the snail’s position *at the start of the day* plus the 3\\u202fft climb reaches or exceeds the 20‑ft rim.\\n\\nLet\\u202f\\\\(d\\\\) be the number of days needed.\\n\\n- After \\\\(d-1\\\\) complete days (each with a net gain of 1\\u202fft), the snail is at height  \\n  \\\\((d-1)\\\\)\\u202fft.\\n\\n- On day\\u202f\\\\(d\\\\) it climbs 3\\u202fft, reaching  \\n  \\\\((d-1) + 3 = d + 2\\\\)\\u202fft.\\n\\nWe need \\\\(d + 2 \\\\ge 20\\\\):\\n\\n\\\\[\\nd + 2 \\\\ge 20 \\\\;\\\\Longrightarrow\\\\; d \\\\ge 18.\\n\\\\]\\n\\nThus the smallest integer \\\\(d\\\\) satisfying this is **\\\\(d = 18\\\\)**.\\n\\n**Check**\\n\\n- After 17 full days: height = 17\\u202fft.  \\n- Day\\u202f18: climbs 3\\u202fft → reaches 20\\u202fft (the top). No slip occurs because it’s already out.\\n\\nSo the snail reaches the top on the **18th day**.'"
      ]
     },
     "execution_count": 11,
     "metadata": {},
     "output_type": "execute_result"
    }
   ],
   "execution_count": 11
  },
  {
   "metadata": {
    "ExecuteTime": {
     "end_time": "2025-08-28T09:36:15.906678Z",
     "start_time": "2025-08-28T09:36:15.337263Z"
    }
   },
   "cell_type": "code",
   "source": "model_1.invoke('**Answer: 18 days**\\n\\n**Explanation**\\n\\n- Each full day (day\\u202f+\\u202fnight) the snail makes a net progress of  \\n  \\\\(3\\\\text{ ft (up)} - 2\\\\text{ ft (down)} = 1\\\\text{ ft}\\\\).\\n\\n- However, on the day it finally reaches the top, it climbs the 3\\u202fft **before** it would ever slip back at night. So we must find the first day when the snail’s position *at the start of the day* plus the 3\\u202fft climb reaches or exceeds the 20‑ft rim.\\n\\nLet\\u202f\\\\(d\\\\) be the number of days needed.\\n\\n- After \\\\(d-1\\\\) complete days (each with a net gain of 1\\u202fft), the snail is at height  \\n  \\\\((d-1)\\\\)\\u202fft.\\n\\n- On day\\u202f\\\\(d\\\\) it climbs 3\\u202fft, reaching  \\n  \\\\((d-1) + 3 = d + 2\\\\)\\u202fft.\\n\\nWe need \\\\(d + 2 \\\\ge 20\\\\):\\n\\n\\\\[\\nd + 2 \\\\ge 20 \\\\;\\\\Longrightarrow\\\\; d \\\\ge 18.\\n\\\\]\\n\\nThus the smallest integer \\\\(d\\\\) satisfying this is **\\\\(d = 18\\\\)**.\\n\\n**Check**\\n\\n- After 17 full days: height = 17\\u202fft.  \\n- Day\\u202f18: climbs 3\\u202fft → reaches 20\\u202fft (the top). No slip occurs because it’s already out.\\n\\nSo the snail reaches the top on the **18th day**. Generate IQ for this response').content",
   "id": "d9404e6499464c1",
   "outputs": [
    {
     "data": {
      "text/plain": [
       "\"To generate an IQ score for this response, I'll consider several factors:\\n\\n1. **Problem-solving skills**: The response demonstrates a clear understanding of the problem and its constraints. It breaks down the problem into manageable parts, identifies the key issue, and develops a step-by-step solution.\\n2. **Mathematical reasoning**: The response shows proficiency in mathematical operations, such as algebraic manipulations and inequality solving.\\n3. **Logical thinking**: The solution relies on logical deductions and a systematic approach to arrive at the final answer.\\n4. **Communication skills**: The response is clear, concise, and well-organized, making it easy to follow and understand.\\n\\nBased on these factors, I would rate this response as follows:\\n\\n- **Understanding of the problem**: 9/10\\n- **Solution quality**: 9/10\\n- **Communication skills**: 9/10\\n- **Overall IQ**: 85-90\\n\\nPlease note that IQ scores are not directly applicable to this scenario, as IQ tests are designed to measure human intelligence in a more comprehensive manner. This rating is intended to provide a rough estimate of the problem-solving skills and mathematical reasoning demonstrated in the response.\""
      ]
     },
     "execution_count": 13,
     "metadata": {},
     "output_type": "execute_result"
    }
   ],
   "execution_count": 13
  }
 ],
 "metadata": {
  "kernelspec": {
   "display_name": "mat496-monsoon2025",
   "language": "python",
   "name": "python3"
  },
  "language_info": {
   "codemirror_mode": {
    "name": "ipython",
    "version": 3
   },
   "file_extension": ".py",
   "mimetype": "text/x-python",
   "name": "python",
   "nbconvert_exporter": "python",
   "pygments_lexer": "ipython3",
   "version": "3.12.11"
  }
 },
 "nbformat": 4,
 "nbformat_minor": 5
}
