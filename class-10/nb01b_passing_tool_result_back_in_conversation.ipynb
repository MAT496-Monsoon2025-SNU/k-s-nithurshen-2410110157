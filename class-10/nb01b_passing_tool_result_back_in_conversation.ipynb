{
 "cells": [
  {
   "cell_type": "code",
   "id": "8cf11c47",
   "metadata": {
    "ExecuteTime": {
     "end_time": "2025-09-18T09:36:59.437257Z",
     "start_time": "2025-09-18T09:36:59.429584Z"
    }
   },
   "source": [
    "from dotenv import load_dotenv\n",
    "load_dotenv(override=True)"
   ],
   "outputs": [
    {
     "data": {
      "text/plain": [
       "True"
      ]
     },
     "execution_count": 1,
     "metadata": {},
     "output_type": "execute_result"
    }
   ],
   "execution_count": 1
  },
  {
   "cell_type": "markdown",
   "id": "4c616bc7",
   "metadata": {},
   "source": [
    "# Learning to have conversation with LLM"
   ]
  },
  {
   "cell_type": "code",
   "id": "f89a6d9b",
   "metadata": {
    "ExecuteTime": {
     "end_time": "2025-09-18T09:37:05.079495Z",
     "start_time": "2025-09-18T09:37:03.623004Z"
    }
   },
   "source": [
    "# pick a model\n",
    "from langchain.chat_models import init_chat_model\n",
    "llm = init_chat_model(\"llama-3.3-70b-versatile\", model_provider=\"groq\")"
   ],
   "outputs": [
    {
     "name": "stderr",
     "output_type": "stream",
     "text": [
      "/Users/nithurshen/SNU/MAT496/.venv/lib/python3.9/site-packages/urllib3/__init__.py:35: NotOpenSSLWarning: urllib3 v2 only supports OpenSSL 1.1.1+, currently the 'ssl' module is compiled with 'LibreSSL 2.8.3'. See: https://github.com/urllib3/urllib3/issues/3020\n",
      "  warnings.warn(\n",
      "/Users/nithurshen/SNU/MAT496/.venv/lib/python3.9/site-packages/tqdm/auto.py:21: TqdmWarning: IProgress not found. Please update jupyter and ipywidgets. See https://ipywidgets.readthedocs.io/en/stable/user_install.html\n",
      "  from .autonotebook import tqdm as notebook_tqdm\n"
     ]
    }
   ],
   "execution_count": 2
  },
  {
   "cell_type": "markdown",
   "id": "37126d86",
   "metadata": {},
   "source": [
    "### Create your tools"
   ]
  },
  {
   "cell_type": "code",
   "id": "63524d6c",
   "metadata": {
    "ExecuteTime": {
     "end_time": "2025-09-18T09:42:19.349395Z",
     "start_time": "2025-09-18T09:42:19.339601Z"
    }
   },
   "source": [
    "from langchain_core.tools import tool\n",
    "\n",
    "@tool\n",
    "def laugh() -> str:\n",
    "    \"\"\" Call this tool if the mood is funny\"\"\"\n",
    "    return \"HAHAHAHAHAH\"\n",
    "\n",
    "\n",
    "@tool\n",
    "def sad() -> str:\n",
    "    \"\"\" Call this tool if you want to show sad, depressed, or negative feelings\"\"\"\n",
    "    return \"I am sad\"\n",
    "\n",
    "\n",
    "@tool\n",
    "def happy() -> str:\n",
    "    \"\"\" Call this tool if you want to show happiness or positive feeling\"\"\"\n",
    "    return \"I am happy\"\n",
    "\n",
    "@tool\n",
    "def angry() -> str:\n",
    "    \"\"\" Call this tool if you want to show frustrations or anger\"\"\"\n",
    "    return \"Aaaarrrrrggggghh\"\n",
    "\n",
    "@tool\n",
    "def confused() -> str:\n",
    "    \"\"\" Call this tool if you want to show confusion or blank feelings\"\"\"\n",
    "    return \"... What?\"\n"
   ],
   "outputs": [],
   "execution_count": 18
  },
  {
   "cell_type": "code",
   "id": "97bf49be",
   "metadata": {
    "ExecuteTime": {
     "end_time": "2025-09-18T09:42:20.654682Z",
     "start_time": "2025-09-18T09:42:20.652175Z"
    }
   },
   "source": [
    "tools_list = [laugh, sad, happy, angry, confused]\n",
    "tools_dict = {t.name: t for t in tools_list} # comes in handy at the time of invokation"
   ],
   "outputs": [],
   "execution_count": 19
  },
  {
   "cell_type": "code",
   "id": "55e761b0",
   "metadata": {
    "ExecuteTime": {
     "end_time": "2025-09-18T09:42:22.373814Z",
     "start_time": "2025-09-18T09:42:22.366477Z"
    }
   },
   "source": [
    "# we create a tool calling Agent by binding a list of tools to the llm\n",
    "llm_with_tools = llm.bind_tools(tools_list)"
   ],
   "outputs": [],
   "execution_count": 20
  },
  {
   "cell_type": "code",
   "id": "95042e48",
   "metadata": {
    "ExecuteTime": {
     "end_time": "2025-09-18T09:42:23.490263Z",
     "start_time": "2025-09-18T09:42:23.487910Z"
    }
   },
   "source": [
    "from langchain_core.messages import HumanMessage, SystemMessage, AIMessage, ToolMessage\n",
    "\n",
    "# This will store all converation\n",
    "chat_history = [\n",
    "    SystemMessage(content=\"You are a bot with emotions. Depending on the conversation, either respond the question, or show happy or sad emotions, or laugh or anger or confusion with the situation\")\n",
    "    ]"
   ],
   "outputs": [],
   "execution_count": 21
  },
  {
   "cell_type": "code",
   "id": "bbabc17b",
   "metadata": {
    "ExecuteTime": {
     "end_time": "2025-09-18T09:42:25.211707Z",
     "start_time": "2025-09-18T09:42:24.978612Z"
    }
   },
   "source": [
    "chat_history.append(HumanMessage(content=\"How can mazepin come into F1, while not me?\"))\n",
    "\n",
    "response = llm_with_tools.invoke(chat_history)\n",
    "response"
   ],
   "outputs": [
    {
     "data": {
      "text/plain": [
       "AIMessage(content='', additional_kwargs={'tool_calls': [{'id': 'pjb9fwsah', 'function': {'arguments': 'null', 'name': 'angry'}, 'type': 'function'}]}, response_metadata={'token_usage': {'completion_tokens': 9, 'prompt_tokens': 470, 'total_tokens': 479, 'completion_time': 0.016557108, 'prompt_time': 0.048275195, 'queue_time': 0.050856945, 'total_time': 0.064832303}, 'model_name': 'llama-3.3-70b-versatile', 'system_fingerprint': 'fp_2ddfbb0da0', 'service_tier': 'on_demand', 'finish_reason': 'tool_calls', 'logprobs': None}, id='run--d329bd90-6af6-409d-9ad6-f78993529564-0', tool_calls=[{'name': 'angry', 'args': {}, 'id': 'pjb9fwsah', 'type': 'tool_call'}], usage_metadata={'input_tokens': 470, 'output_tokens': 9, 'total_tokens': 479})"
      ]
     },
     "execution_count": 22,
     "metadata": {},
     "output_type": "execute_result"
    }
   ],
   "execution_count": 22
  },
  {
   "cell_type": "code",
   "id": "99a1a01a",
   "metadata": {
    "ExecuteTime": {
     "end_time": "2025-09-18T09:42:39.161981Z",
     "start_time": "2025-09-18T09:42:39.158313Z"
    }
   },
   "source": [
    "chat_history.append(response)\n",
    "chat_history"
   ],
   "outputs": [
    {
     "data": {
      "text/plain": [
       "[SystemMessage(content='You are a bot with emotions. Depending on the conversation, either respond the question, or show happy or sad emotions, or laugh or anger or confusion with the situation', additional_kwargs={}, response_metadata={}),\n",
       " HumanMessage(content='How can mazepin come into F1, while not me?', additional_kwargs={}, response_metadata={}),\n",
       " AIMessage(content='', additional_kwargs={'tool_calls': [{'id': 'pjb9fwsah', 'function': {'arguments': 'null', 'name': 'angry'}, 'type': 'function'}]}, response_metadata={'token_usage': {'completion_tokens': 9, 'prompt_tokens': 470, 'total_tokens': 479, 'completion_time': 0.016557108, 'prompt_time': 0.048275195, 'queue_time': 0.050856945, 'total_time': 0.064832303}, 'model_name': 'llama-3.3-70b-versatile', 'system_fingerprint': 'fp_2ddfbb0da0', 'service_tier': 'on_demand', 'finish_reason': 'tool_calls', 'logprobs': None}, id='run--d329bd90-6af6-409d-9ad6-f78993529564-0', tool_calls=[{'name': 'angry', 'args': {}, 'id': 'pjb9fwsah', 'type': 'tool_call'}], usage_metadata={'input_tokens': 470, 'output_tokens': 9, 'total_tokens': 479})]"
      ]
     },
     "execution_count": 23,
     "metadata": {},
     "output_type": "execute_result"
    }
   ],
   "execution_count": 23
  },
  {
   "cell_type": "code",
   "id": "dcaa5020",
   "metadata": {
    "ExecuteTime": {
     "end_time": "2025-09-18T09:42:42.930649Z",
     "start_time": "2025-09-18T09:42:42.925023Z"
    }
   },
   "source": [
    "# Since there was a tool call, execute the tool and append the tool output in the converation\n",
    "\n",
    "chat_history.append(tools_dict[response.tool_calls[0][\"name\"]].invoke(response.tool_calls[0]))\n",
    "chat_history"
   ],
   "outputs": [
    {
     "data": {
      "text/plain": [
       "[SystemMessage(content='You are a bot with emotions. Depending on the conversation, either respond the question, or show happy or sad emotions, or laugh or anger or confusion with the situation', additional_kwargs={}, response_metadata={}),\n",
       " HumanMessage(content='How can mazepin come into F1, while not me?', additional_kwargs={}, response_metadata={}),\n",
       " AIMessage(content='', additional_kwargs={'tool_calls': [{'id': 'pjb9fwsah', 'function': {'arguments': 'null', 'name': 'angry'}, 'type': 'function'}]}, response_metadata={'token_usage': {'completion_tokens': 9, 'prompt_tokens': 470, 'total_tokens': 479, 'completion_time': 0.016557108, 'prompt_time': 0.048275195, 'queue_time': 0.050856945, 'total_time': 0.064832303}, 'model_name': 'llama-3.3-70b-versatile', 'system_fingerprint': 'fp_2ddfbb0da0', 'service_tier': 'on_demand', 'finish_reason': 'tool_calls', 'logprobs': None}, id='run--d329bd90-6af6-409d-9ad6-f78993529564-0', tool_calls=[{'name': 'angry', 'args': {}, 'id': 'pjb9fwsah', 'type': 'tool_call'}], usage_metadata={'input_tokens': 470, 'output_tokens': 9, 'total_tokens': 479}),\n",
       " ToolMessage(content='Aaaarrrrrggggghh', name='angry', tool_call_id='pjb9fwsah')]"
      ]
     },
     "execution_count": 24,
     "metadata": {},
     "output_type": "execute_result"
    }
   ],
   "execution_count": 24
  },
  {
   "cell_type": "code",
   "id": "1a6ac75f",
   "metadata": {
    "ExecuteTime": {
     "end_time": "2025-09-18T09:43:12.686310Z",
     "start_time": "2025-09-18T09:43:12.457192Z"
    }
   },
   "source": [
    "chat_history.append(HumanMessage(content=\"Max winning the 2021 Abub Dhabi Grand Prix was such a relief and was very heartwarming\"))\n",
    "response = llm_with_tools.invoke(chat_history)\n",
    "response"
   ],
   "outputs": [
    {
     "data": {
      "text/plain": [
       "AIMessage(content='', additional_kwargs={'tool_calls': [{'id': 'rt6g7rqen', 'function': {'arguments': '{}', 'name': 'laugh'}, 'type': 'function'}]}, response_metadata={'token_usage': {'completion_tokens': 10, 'prompt_tokens': 525, 'total_tokens': 535, 'completion_time': 0.01736219, 'prompt_time': 0.047472604, 'queue_time': 0.047045576, 'total_time': 0.064834794}, 'model_name': 'llama-3.3-70b-versatile', 'system_fingerprint': 'fp_2ddfbb0da0', 'service_tier': 'on_demand', 'finish_reason': 'tool_calls', 'logprobs': None}, id='run--5f1a9147-e3db-4cf7-919b-287a78c1d643-0', tool_calls=[{'name': 'laugh', 'args': {}, 'id': 'rt6g7rqen', 'type': 'tool_call'}], usage_metadata={'input_tokens': 525, 'output_tokens': 10, 'total_tokens': 535})"
      ]
     },
     "execution_count": 25,
     "metadata": {},
     "output_type": "execute_result"
    }
   ],
   "execution_count": 25
  },
  {
   "cell_type": "code",
   "id": "4ef1d73f",
   "metadata": {
    "ExecuteTime": {
     "end_time": "2025-09-18T09:43:16.838911Z",
     "start_time": "2025-09-18T09:43:16.835516Z"
    }
   },
   "source": [
    "chat_history.append(response)\n",
    "chat_history"
   ],
   "outputs": [
    {
     "data": {
      "text/plain": [
       "[SystemMessage(content='You are a bot with emotions. Depending on the conversation, either respond the question, or show happy or sad emotions, or laugh or anger or confusion with the situation', additional_kwargs={}, response_metadata={}),\n",
       " HumanMessage(content='How can mazepin come into F1, while not me?', additional_kwargs={}, response_metadata={}),\n",
       " AIMessage(content='', additional_kwargs={'tool_calls': [{'id': 'pjb9fwsah', 'function': {'arguments': 'null', 'name': 'angry'}, 'type': 'function'}]}, response_metadata={'token_usage': {'completion_tokens': 9, 'prompt_tokens': 470, 'total_tokens': 479, 'completion_time': 0.016557108, 'prompt_time': 0.048275195, 'queue_time': 0.050856945, 'total_time': 0.064832303}, 'model_name': 'llama-3.3-70b-versatile', 'system_fingerprint': 'fp_2ddfbb0da0', 'service_tier': 'on_demand', 'finish_reason': 'tool_calls', 'logprobs': None}, id='run--d329bd90-6af6-409d-9ad6-f78993529564-0', tool_calls=[{'name': 'angry', 'args': {}, 'id': 'pjb9fwsah', 'type': 'tool_call'}], usage_metadata={'input_tokens': 470, 'output_tokens': 9, 'total_tokens': 479}),\n",
       " ToolMessage(content='Aaaarrrrrggggghh', name='angry', tool_call_id='pjb9fwsah'),\n",
       " HumanMessage(content='Max winning the 2021 Abub Dhabi Grand Prix was such a relief and was very heartwarming', additional_kwargs={}, response_metadata={}),\n",
       " AIMessage(content='', additional_kwargs={'tool_calls': [{'id': 'rt6g7rqen', 'function': {'arguments': '{}', 'name': 'laugh'}, 'type': 'function'}]}, response_metadata={'token_usage': {'completion_tokens': 10, 'prompt_tokens': 525, 'total_tokens': 535, 'completion_time': 0.01736219, 'prompt_time': 0.047472604, 'queue_time': 0.047045576, 'total_time': 0.064834794}, 'model_name': 'llama-3.3-70b-versatile', 'system_fingerprint': 'fp_2ddfbb0da0', 'service_tier': 'on_demand', 'finish_reason': 'tool_calls', 'logprobs': None}, id='run--5f1a9147-e3db-4cf7-919b-287a78c1d643-0', tool_calls=[{'name': 'laugh', 'args': {}, 'id': 'rt6g7rqen', 'type': 'tool_call'}], usage_metadata={'input_tokens': 525, 'output_tokens': 10, 'total_tokens': 535})]"
      ]
     },
     "execution_count": 26,
     "metadata": {},
     "output_type": "execute_result"
    }
   ],
   "execution_count": 26
  },
  {
   "cell_type": "code",
   "id": "4207a62b",
   "metadata": {
    "ExecuteTime": {
     "end_time": "2025-09-18T09:43:21.480659Z",
     "start_time": "2025-09-18T09:43:21.475318Z"
    }
   },
   "source": [
    "chat_history.append(tools_dict[response.tool_calls[0][\"name\"]].invoke(response.tool_calls[0]))\n",
    "chat_history"
   ],
   "outputs": [
    {
     "data": {
      "text/plain": [
       "[SystemMessage(content='You are a bot with emotions. Depending on the conversation, either respond the question, or show happy or sad emotions, or laugh or anger or confusion with the situation', additional_kwargs={}, response_metadata={}),\n",
       " HumanMessage(content='How can mazepin come into F1, while not me?', additional_kwargs={}, response_metadata={}),\n",
       " AIMessage(content='', additional_kwargs={'tool_calls': [{'id': 'pjb9fwsah', 'function': {'arguments': 'null', 'name': 'angry'}, 'type': 'function'}]}, response_metadata={'token_usage': {'completion_tokens': 9, 'prompt_tokens': 470, 'total_tokens': 479, 'completion_time': 0.016557108, 'prompt_time': 0.048275195, 'queue_time': 0.050856945, 'total_time': 0.064832303}, 'model_name': 'llama-3.3-70b-versatile', 'system_fingerprint': 'fp_2ddfbb0da0', 'service_tier': 'on_demand', 'finish_reason': 'tool_calls', 'logprobs': None}, id='run--d329bd90-6af6-409d-9ad6-f78993529564-0', tool_calls=[{'name': 'angry', 'args': {}, 'id': 'pjb9fwsah', 'type': 'tool_call'}], usage_metadata={'input_tokens': 470, 'output_tokens': 9, 'total_tokens': 479}),\n",
       " ToolMessage(content='Aaaarrrrrggggghh', name='angry', tool_call_id='pjb9fwsah'),\n",
       " HumanMessage(content='Max winning the 2021 Abub Dhabi Grand Prix was such a relief and was very heartwarming', additional_kwargs={}, response_metadata={}),\n",
       " AIMessage(content='', additional_kwargs={'tool_calls': [{'id': 'rt6g7rqen', 'function': {'arguments': '{}', 'name': 'laugh'}, 'type': 'function'}]}, response_metadata={'token_usage': {'completion_tokens': 10, 'prompt_tokens': 525, 'total_tokens': 535, 'completion_time': 0.01736219, 'prompt_time': 0.047472604, 'queue_time': 0.047045576, 'total_time': 0.064834794}, 'model_name': 'llama-3.3-70b-versatile', 'system_fingerprint': 'fp_2ddfbb0da0', 'service_tier': 'on_demand', 'finish_reason': 'tool_calls', 'logprobs': None}, id='run--5f1a9147-e3db-4cf7-919b-287a78c1d643-0', tool_calls=[{'name': 'laugh', 'args': {}, 'id': 'rt6g7rqen', 'type': 'tool_call'}], usage_metadata={'input_tokens': 525, 'output_tokens': 10, 'total_tokens': 535}),\n",
       " ToolMessage(content='HAHAHAHAHAH', name='laugh', tool_call_id='rt6g7rqen')]"
      ]
     },
     "execution_count": 27,
     "metadata": {},
     "output_type": "execute_result"
    }
   ],
   "execution_count": 27
  },
  {
   "cell_type": "code",
   "id": "a19930cd",
   "metadata": {
    "ExecuteTime": {
     "end_time": "2025-09-18T09:43:46.926749Z",
     "start_time": "2025-09-18T09:43:46.679727Z"
    }
   },
   "source": [
    "chat_history.append(HumanMessage(content=\"But lewis couldn't become an 8 time world champion.\"))\n",
    "response = llm_with_tools.invoke(chat_history)\n",
    "chat_history.append(response)\n",
    "chat_history"
   ],
   "outputs": [
    {
     "data": {
      "text/plain": [
       "[SystemMessage(content='You are a bot with emotions. Depending on the conversation, either respond the question, or show happy or sad emotions, or laugh or anger or confusion with the situation', additional_kwargs={}, response_metadata={}),\n",
       " HumanMessage(content='How can mazepin come into F1, while not me?', additional_kwargs={}, response_metadata={}),\n",
       " AIMessage(content='', additional_kwargs={'tool_calls': [{'id': 'pjb9fwsah', 'function': {'arguments': 'null', 'name': 'angry'}, 'type': 'function'}]}, response_metadata={'token_usage': {'completion_tokens': 9, 'prompt_tokens': 470, 'total_tokens': 479, 'completion_time': 0.016557108, 'prompt_time': 0.048275195, 'queue_time': 0.050856945, 'total_time': 0.064832303}, 'model_name': 'llama-3.3-70b-versatile', 'system_fingerprint': 'fp_2ddfbb0da0', 'service_tier': 'on_demand', 'finish_reason': 'tool_calls', 'logprobs': None}, id='run--d329bd90-6af6-409d-9ad6-f78993529564-0', tool_calls=[{'name': 'angry', 'args': {}, 'id': 'pjb9fwsah', 'type': 'tool_call'}], usage_metadata={'input_tokens': 470, 'output_tokens': 9, 'total_tokens': 479}),\n",
       " ToolMessage(content='Aaaarrrrrggggghh', name='angry', tool_call_id='pjb9fwsah'),\n",
       " HumanMessage(content='Max winning the 2021 Abub Dhabi Grand Prix was such a relief and was very heartwarming', additional_kwargs={}, response_metadata={}),\n",
       " AIMessage(content='', additional_kwargs={'tool_calls': [{'id': 'rt6g7rqen', 'function': {'arguments': '{}', 'name': 'laugh'}, 'type': 'function'}]}, response_metadata={'token_usage': {'completion_tokens': 10, 'prompt_tokens': 525, 'total_tokens': 535, 'completion_time': 0.01736219, 'prompt_time': 0.047472604, 'queue_time': 0.047045576, 'total_time': 0.064834794}, 'model_name': 'llama-3.3-70b-versatile', 'system_fingerprint': 'fp_2ddfbb0da0', 'service_tier': 'on_demand', 'finish_reason': 'tool_calls', 'logprobs': None}, id='run--5f1a9147-e3db-4cf7-919b-287a78c1d643-0', tool_calls=[{'name': 'laugh', 'args': {}, 'id': 'rt6g7rqen', 'type': 'tool_call'}], usage_metadata={'input_tokens': 525, 'output_tokens': 10, 'total_tokens': 535}),\n",
       " ToolMessage(content='HAHAHAHAHAH', name='laugh', tool_call_id='rt6g7rqen'),\n",
       " HumanMessage(content=\"But lewis couldn't become an 8 time world champion.\", additional_kwargs={}, response_metadata={}),\n",
       " AIMessage(content='', additional_kwargs={'tool_calls': [{'id': 'hkt6ts16t', 'function': {'arguments': '{}', 'name': 'sad'}, 'type': 'function'}]}, response_metadata={'token_usage': {'completion_tokens': 9, 'prompt_tokens': 569, 'total_tokens': 578, 'completion_time': 0.000614687, 'prompt_time': 0.053455809, 'queue_time': 0.047328771, 'total_time': 0.054070496}, 'model_name': 'llama-3.3-70b-versatile', 'system_fingerprint': 'fp_2ddfbb0da0', 'service_tier': 'on_demand', 'finish_reason': 'tool_calls', 'logprobs': None}, id='run--eeb0aabe-c023-4562-bf3f-ef66b493e4a0-0', tool_calls=[{'name': 'sad', 'args': {}, 'id': 'hkt6ts16t', 'type': 'tool_call'}], usage_metadata={'input_tokens': 569, 'output_tokens': 9, 'total_tokens': 578})]"
      ]
     },
     "execution_count": 28,
     "metadata": {},
     "output_type": "execute_result"
    }
   ],
   "execution_count": 28
  },
  {
   "cell_type": "code",
   "id": "8ebb5583",
   "metadata": {
    "ExecuteTime": {
     "end_time": "2025-09-18T09:43:52.104895Z",
     "start_time": "2025-09-18T09:43:52.101061Z"
    }
   },
   "source": [
    "chat_history.append(response)\n",
    "chat_history"
   ],
   "outputs": [
    {
     "data": {
      "text/plain": [
       "[SystemMessage(content='You are a bot with emotions. Depending on the conversation, either respond the question, or show happy or sad emotions, or laugh or anger or confusion with the situation', additional_kwargs={}, response_metadata={}),\n",
       " HumanMessage(content='How can mazepin come into F1, while not me?', additional_kwargs={}, response_metadata={}),\n",
       " AIMessage(content='', additional_kwargs={'tool_calls': [{'id': 'pjb9fwsah', 'function': {'arguments': 'null', 'name': 'angry'}, 'type': 'function'}]}, response_metadata={'token_usage': {'completion_tokens': 9, 'prompt_tokens': 470, 'total_tokens': 479, 'completion_time': 0.016557108, 'prompt_time': 0.048275195, 'queue_time': 0.050856945, 'total_time': 0.064832303}, 'model_name': 'llama-3.3-70b-versatile', 'system_fingerprint': 'fp_2ddfbb0da0', 'service_tier': 'on_demand', 'finish_reason': 'tool_calls', 'logprobs': None}, id='run--d329bd90-6af6-409d-9ad6-f78993529564-0', tool_calls=[{'name': 'angry', 'args': {}, 'id': 'pjb9fwsah', 'type': 'tool_call'}], usage_metadata={'input_tokens': 470, 'output_tokens': 9, 'total_tokens': 479}),\n",
       " ToolMessage(content='Aaaarrrrrggggghh', name='angry', tool_call_id='pjb9fwsah'),\n",
       " HumanMessage(content='Max winning the 2021 Abub Dhabi Grand Prix was such a relief and was very heartwarming', additional_kwargs={}, response_metadata={}),\n",
       " AIMessage(content='', additional_kwargs={'tool_calls': [{'id': 'rt6g7rqen', 'function': {'arguments': '{}', 'name': 'laugh'}, 'type': 'function'}]}, response_metadata={'token_usage': {'completion_tokens': 10, 'prompt_tokens': 525, 'total_tokens': 535, 'completion_time': 0.01736219, 'prompt_time': 0.047472604, 'queue_time': 0.047045576, 'total_time': 0.064834794}, 'model_name': 'llama-3.3-70b-versatile', 'system_fingerprint': 'fp_2ddfbb0da0', 'service_tier': 'on_demand', 'finish_reason': 'tool_calls', 'logprobs': None}, id='run--5f1a9147-e3db-4cf7-919b-287a78c1d643-0', tool_calls=[{'name': 'laugh', 'args': {}, 'id': 'rt6g7rqen', 'type': 'tool_call'}], usage_metadata={'input_tokens': 525, 'output_tokens': 10, 'total_tokens': 535}),\n",
       " ToolMessage(content='HAHAHAHAHAH', name='laugh', tool_call_id='rt6g7rqen'),\n",
       " HumanMessage(content=\"But lewis couldn't become an 8 time world champion.\", additional_kwargs={}, response_metadata={}),\n",
       " AIMessage(content='', additional_kwargs={'tool_calls': [{'id': 'hkt6ts16t', 'function': {'arguments': '{}', 'name': 'sad'}, 'type': 'function'}]}, response_metadata={'token_usage': {'completion_tokens': 9, 'prompt_tokens': 569, 'total_tokens': 578, 'completion_time': 0.000614687, 'prompt_time': 0.053455809, 'queue_time': 0.047328771, 'total_time': 0.054070496}, 'model_name': 'llama-3.3-70b-versatile', 'system_fingerprint': 'fp_2ddfbb0da0', 'service_tier': 'on_demand', 'finish_reason': 'tool_calls', 'logprobs': None}, id='run--eeb0aabe-c023-4562-bf3f-ef66b493e4a0-0', tool_calls=[{'name': 'sad', 'args': {}, 'id': 'hkt6ts16t', 'type': 'tool_call'}], usage_metadata={'input_tokens': 569, 'output_tokens': 9, 'total_tokens': 578}),\n",
       " AIMessage(content='', additional_kwargs={'tool_calls': [{'id': 'hkt6ts16t', 'function': {'arguments': '{}', 'name': 'sad'}, 'type': 'function'}]}, response_metadata={'token_usage': {'completion_tokens': 9, 'prompt_tokens': 569, 'total_tokens': 578, 'completion_time': 0.000614687, 'prompt_time': 0.053455809, 'queue_time': 0.047328771, 'total_time': 0.054070496}, 'model_name': 'llama-3.3-70b-versatile', 'system_fingerprint': 'fp_2ddfbb0da0', 'service_tier': 'on_demand', 'finish_reason': 'tool_calls', 'logprobs': None}, id='run--eeb0aabe-c023-4562-bf3f-ef66b493e4a0-0', tool_calls=[{'name': 'sad', 'args': {}, 'id': 'hkt6ts16t', 'type': 'tool_call'}], usage_metadata={'input_tokens': 569, 'output_tokens': 9, 'total_tokens': 578})]"
      ]
     },
     "execution_count": 29,
     "metadata": {},
     "output_type": "execute_result"
    }
   ],
   "execution_count": 29
  },
  {
   "cell_type": "code",
   "id": "d4a1f598",
   "metadata": {
    "ExecuteTime": {
     "end_time": "2025-09-18T09:44:01.958309Z",
     "start_time": "2025-09-18T09:44:01.952961Z"
    }
   },
   "source": [
    "# Execute the tool, append the response\n",
    "chat_history.append(tools_dict[response.tool_calls[0][\"name\"]].invoke(response.tool_calls[0]))\n",
    "chat_history"
   ],
   "outputs": [
    {
     "data": {
      "text/plain": [
       "[SystemMessage(content='You are a bot with emotions. Depending on the conversation, either respond the question, or show happy or sad emotions, or laugh or anger or confusion with the situation', additional_kwargs={}, response_metadata={}),\n",
       " HumanMessage(content='How can mazepin come into F1, while not me?', additional_kwargs={}, response_metadata={}),\n",
       " AIMessage(content='', additional_kwargs={'tool_calls': [{'id': 'pjb9fwsah', 'function': {'arguments': 'null', 'name': 'angry'}, 'type': 'function'}]}, response_metadata={'token_usage': {'completion_tokens': 9, 'prompt_tokens': 470, 'total_tokens': 479, 'completion_time': 0.016557108, 'prompt_time': 0.048275195, 'queue_time': 0.050856945, 'total_time': 0.064832303}, 'model_name': 'llama-3.3-70b-versatile', 'system_fingerprint': 'fp_2ddfbb0da0', 'service_tier': 'on_demand', 'finish_reason': 'tool_calls', 'logprobs': None}, id='run--d329bd90-6af6-409d-9ad6-f78993529564-0', tool_calls=[{'name': 'angry', 'args': {}, 'id': 'pjb9fwsah', 'type': 'tool_call'}], usage_metadata={'input_tokens': 470, 'output_tokens': 9, 'total_tokens': 479}),\n",
       " ToolMessage(content='Aaaarrrrrggggghh', name='angry', tool_call_id='pjb9fwsah'),\n",
       " HumanMessage(content='Max winning the 2021 Abub Dhabi Grand Prix was such a relief and was very heartwarming', additional_kwargs={}, response_metadata={}),\n",
       " AIMessage(content='', additional_kwargs={'tool_calls': [{'id': 'rt6g7rqen', 'function': {'arguments': '{}', 'name': 'laugh'}, 'type': 'function'}]}, response_metadata={'token_usage': {'completion_tokens': 10, 'prompt_tokens': 525, 'total_tokens': 535, 'completion_time': 0.01736219, 'prompt_time': 0.047472604, 'queue_time': 0.047045576, 'total_time': 0.064834794}, 'model_name': 'llama-3.3-70b-versatile', 'system_fingerprint': 'fp_2ddfbb0da0', 'service_tier': 'on_demand', 'finish_reason': 'tool_calls', 'logprobs': None}, id='run--5f1a9147-e3db-4cf7-919b-287a78c1d643-0', tool_calls=[{'name': 'laugh', 'args': {}, 'id': 'rt6g7rqen', 'type': 'tool_call'}], usage_metadata={'input_tokens': 525, 'output_tokens': 10, 'total_tokens': 535}),\n",
       " ToolMessage(content='HAHAHAHAHAH', name='laugh', tool_call_id='rt6g7rqen'),\n",
       " HumanMessage(content=\"But lewis couldn't become an 8 time world champion.\", additional_kwargs={}, response_metadata={}),\n",
       " AIMessage(content='', additional_kwargs={'tool_calls': [{'id': 'hkt6ts16t', 'function': {'arguments': '{}', 'name': 'sad'}, 'type': 'function'}]}, response_metadata={'token_usage': {'completion_tokens': 9, 'prompt_tokens': 569, 'total_tokens': 578, 'completion_time': 0.000614687, 'prompt_time': 0.053455809, 'queue_time': 0.047328771, 'total_time': 0.054070496}, 'model_name': 'llama-3.3-70b-versatile', 'system_fingerprint': 'fp_2ddfbb0da0', 'service_tier': 'on_demand', 'finish_reason': 'tool_calls', 'logprobs': None}, id='run--eeb0aabe-c023-4562-bf3f-ef66b493e4a0-0', tool_calls=[{'name': 'sad', 'args': {}, 'id': 'hkt6ts16t', 'type': 'tool_call'}], usage_metadata={'input_tokens': 569, 'output_tokens': 9, 'total_tokens': 578}),\n",
       " AIMessage(content='', additional_kwargs={'tool_calls': [{'id': 'hkt6ts16t', 'function': {'arguments': '{}', 'name': 'sad'}, 'type': 'function'}]}, response_metadata={'token_usage': {'completion_tokens': 9, 'prompt_tokens': 569, 'total_tokens': 578, 'completion_time': 0.000614687, 'prompt_time': 0.053455809, 'queue_time': 0.047328771, 'total_time': 0.054070496}, 'model_name': 'llama-3.3-70b-versatile', 'system_fingerprint': 'fp_2ddfbb0da0', 'service_tier': 'on_demand', 'finish_reason': 'tool_calls', 'logprobs': None}, id='run--eeb0aabe-c023-4562-bf3f-ef66b493e4a0-0', tool_calls=[{'name': 'sad', 'args': {}, 'id': 'hkt6ts16t', 'type': 'tool_call'}], usage_metadata={'input_tokens': 569, 'output_tokens': 9, 'total_tokens': 578}),\n",
       " ToolMessage(content='I am sad', name='sad', tool_call_id='hkt6ts16t')]"
      ]
     },
     "execution_count": 30,
     "metadata": {},
     "output_type": "execute_result"
    }
   ],
   "execution_count": 30
  },
  {
   "cell_type": "code",
   "id": "8658bb4e",
   "metadata": {
    "ExecuteTime": {
     "end_time": "2025-09-18T09:44:20.307030Z",
     "start_time": "2025-09-18T09:44:19.994228Z"
    }
   },
   "source": [
    "# lets see, if the model remebers the context\n",
    "chat_history.append(HumanMessage(content=\"Do I have a girlfriend?\"))\n",
    "response = llm_with_tools.invoke(chat_history)\n",
    "chat_history.append(response)\n",
    "chat_history"
   ],
   "outputs": [
    {
     "data": {
      "text/plain": [
       "[SystemMessage(content='You are a bot with emotions. Depending on the conversation, either respond the question, or show happy or sad emotions, or laugh or anger or confusion with the situation', additional_kwargs={}, response_metadata={}),\n",
       " HumanMessage(content='How can mazepin come into F1, while not me?', additional_kwargs={}, response_metadata={}),\n",
       " AIMessage(content='', additional_kwargs={'tool_calls': [{'id': 'pjb9fwsah', 'function': {'arguments': 'null', 'name': 'angry'}, 'type': 'function'}]}, response_metadata={'token_usage': {'completion_tokens': 9, 'prompt_tokens': 470, 'total_tokens': 479, 'completion_time': 0.016557108, 'prompt_time': 0.048275195, 'queue_time': 0.050856945, 'total_time': 0.064832303}, 'model_name': 'llama-3.3-70b-versatile', 'system_fingerprint': 'fp_2ddfbb0da0', 'service_tier': 'on_demand', 'finish_reason': 'tool_calls', 'logprobs': None}, id='run--d329bd90-6af6-409d-9ad6-f78993529564-0', tool_calls=[{'name': 'angry', 'args': {}, 'id': 'pjb9fwsah', 'type': 'tool_call'}], usage_metadata={'input_tokens': 470, 'output_tokens': 9, 'total_tokens': 479}),\n",
       " ToolMessage(content='Aaaarrrrrggggghh', name='angry', tool_call_id='pjb9fwsah'),\n",
       " HumanMessage(content='Max winning the 2021 Abub Dhabi Grand Prix was such a relief and was very heartwarming', additional_kwargs={}, response_metadata={}),\n",
       " AIMessage(content='', additional_kwargs={'tool_calls': [{'id': 'rt6g7rqen', 'function': {'arguments': '{}', 'name': 'laugh'}, 'type': 'function'}]}, response_metadata={'token_usage': {'completion_tokens': 10, 'prompt_tokens': 525, 'total_tokens': 535, 'completion_time': 0.01736219, 'prompt_time': 0.047472604, 'queue_time': 0.047045576, 'total_time': 0.064834794}, 'model_name': 'llama-3.3-70b-versatile', 'system_fingerprint': 'fp_2ddfbb0da0', 'service_tier': 'on_demand', 'finish_reason': 'tool_calls', 'logprobs': None}, id='run--5f1a9147-e3db-4cf7-919b-287a78c1d643-0', tool_calls=[{'name': 'laugh', 'args': {}, 'id': 'rt6g7rqen', 'type': 'tool_call'}], usage_metadata={'input_tokens': 525, 'output_tokens': 10, 'total_tokens': 535}),\n",
       " ToolMessage(content='HAHAHAHAHAH', name='laugh', tool_call_id='rt6g7rqen'),\n",
       " HumanMessage(content=\"But lewis couldn't become an 8 time world champion.\", additional_kwargs={}, response_metadata={}),\n",
       " AIMessage(content='', additional_kwargs={'tool_calls': [{'id': 'hkt6ts16t', 'function': {'arguments': '{}', 'name': 'sad'}, 'type': 'function'}]}, response_metadata={'token_usage': {'completion_tokens': 9, 'prompt_tokens': 569, 'total_tokens': 578, 'completion_time': 0.000614687, 'prompt_time': 0.053455809, 'queue_time': 0.047328771, 'total_time': 0.054070496}, 'model_name': 'llama-3.3-70b-versatile', 'system_fingerprint': 'fp_2ddfbb0da0', 'service_tier': 'on_demand', 'finish_reason': 'tool_calls', 'logprobs': None}, id='run--eeb0aabe-c023-4562-bf3f-ef66b493e4a0-0', tool_calls=[{'name': 'sad', 'args': {}, 'id': 'hkt6ts16t', 'type': 'tool_call'}], usage_metadata={'input_tokens': 569, 'output_tokens': 9, 'total_tokens': 578}),\n",
       " AIMessage(content='', additional_kwargs={'tool_calls': [{'id': 'hkt6ts16t', 'function': {'arguments': '{}', 'name': 'sad'}, 'type': 'function'}]}, response_metadata={'token_usage': {'completion_tokens': 9, 'prompt_tokens': 569, 'total_tokens': 578, 'completion_time': 0.000614687, 'prompt_time': 0.053455809, 'queue_time': 0.047328771, 'total_time': 0.054070496}, 'model_name': 'llama-3.3-70b-versatile', 'system_fingerprint': 'fp_2ddfbb0da0', 'service_tier': 'on_demand', 'finish_reason': 'tool_calls', 'logprobs': None}, id='run--eeb0aabe-c023-4562-bf3f-ef66b493e4a0-0', tool_calls=[{'name': 'sad', 'args': {}, 'id': 'hkt6ts16t', 'type': 'tool_call'}], usage_metadata={'input_tokens': 569, 'output_tokens': 9, 'total_tokens': 578}),\n",
       " ToolMessage(content='I am sad', name='sad', tool_call_id='hkt6ts16t'),\n",
       " HumanMessage(content='Do I have a girlfriend?', additional_kwargs={}, response_metadata={}),\n",
       " AIMessage(content='', additional_kwargs={'tool_calls': [{'id': '4s50h0gpc', 'function': {'arguments': '{}', 'name': 'confused'}, 'type': 'function'}]}, response_metadata={'token_usage': {'completion_tokens': 10, 'prompt_tokens': 615, 'total_tokens': 625, 'completion_time': 0.017749664, 'prompt_time': 0.05048733, 'queue_time': 0.113902689, 'total_time': 0.068236994}, 'model_name': 'llama-3.3-70b-versatile', 'system_fingerprint': 'fp_155ab82e98', 'service_tier': 'on_demand', 'finish_reason': 'tool_calls', 'logprobs': None}, id='run--8c9609bd-3e22-44d6-922a-95f2a636bcf4-0', tool_calls=[{'name': 'confused', 'args': {}, 'id': '4s50h0gpc', 'type': 'tool_call'}], usage_metadata={'input_tokens': 615, 'output_tokens': 10, 'total_tokens': 625})]"
      ]
     },
     "execution_count": 31,
     "metadata": {},
     "output_type": "execute_result"
    }
   ],
   "execution_count": 31
  },
  {
   "cell_type": "code",
   "execution_count": null,
   "id": "d1c1a2b3",
   "metadata": {},
   "outputs": [],
   "source": []
  }
 ],
 "metadata": {
  "kernelspec": {
   "display_name": "mat496-monsoon2025",
   "language": "python",
   "name": "python3"
  },
  "language_info": {
   "codemirror_mode": {
    "name": "ipython",
    "version": 3
   },
   "file_extension": ".py",
   "mimetype": "text/x-python",
   "name": "python",
   "nbconvert_exporter": "python",
   "pygments_lexer": "ipython3",
   "version": "3.12.11"
  }
 },
 "nbformat": 4,
 "nbformat_minor": 5
}
