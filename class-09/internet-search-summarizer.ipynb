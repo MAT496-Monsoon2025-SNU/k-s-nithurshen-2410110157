{
 "cells": [
  {
   "cell_type": "code",
   "id": "initial_id",
   "metadata": {
    "collapsed": true,
    "ExecuteTime": {
     "end_time": "2025-09-16T09:30:57.517075Z",
     "start_time": "2025-09-16T09:30:56.851789Z"
    }
   },
   "source": [
    "import os\n",
    "from dotenv import load_dotenv\n",
    "from nltk import toolbox\n",
    "load_dotenv()\n",
    "from IPython.display import Markdown, display"
   ],
   "outputs": [],
   "execution_count": 1
  },
  {
   "metadata": {
    "ExecuteTime": {
     "end_time": "2025-09-16T09:31:06.415677Z",
     "start_time": "2025-09-16T09:31:04.734857Z"
    }
   },
   "cell_type": "code",
   "source": [
    "from langchain.chat_models import init_chat_model\n",
    "model = init_chat_model(\"llama-3.3-70b-versatile\", model_provider=\"groq\")"
   ],
   "id": "a50e8f8220ee2598",
   "outputs": [
    {
     "name": "stderr",
     "output_type": "stream",
     "text": [
      "/Users/nithurshen/SNU/MAT496/.venv/lib/python3.9/site-packages/urllib3/__init__.py:35: NotOpenSSLWarning: urllib3 v2 only supports OpenSSL 1.1.1+, currently the 'ssl' module is compiled with 'LibreSSL 2.8.3'. See: https://github.com/urllib3/urllib3/issues/3020\n",
      "  warnings.warn(\n",
      "/Users/nithurshen/SNU/MAT496/.venv/lib/python3.9/site-packages/tqdm/auto.py:21: TqdmWarning: IProgress not found. Please update jupyter and ipywidgets. See https://ipywidgets.readthedocs.io/en/stable/user_install.html\n",
      "  from .autonotebook import tqdm as notebook_tqdm\n"
     ]
    }
   ],
   "execution_count": 2
  },
  {
   "metadata": {
    "ExecuteTime": {
     "end_time": "2025-09-16T09:57:04.699143Z",
     "start_time": "2025-09-16T09:57:04.684861Z"
    }
   },
   "cell_type": "code",
   "source": [
    "from langchain_community.tools import DuckDuckGoSearchRun\n",
    "from langchain_core.tools import tool\n",
    "from langchain_experimental.tools import PythonREPLTool\n",
    "from langchain_community.tools import WikipediaQueryRun\n",
    "from langchain_community.utilities import WikipediaAPIWrapper\n",
    "\n",
    "@tool\n",
    "def ddgs(source, query):\n",
    "    \"\"\"Integrates with Duck Duck Go Search engine, and fetches latest information from the web\n",
    "    Allowed parameters for source: 'news', 'article', 'text', 'images', 'videos', 'answers'\"\"\"\n",
    "    duck = DuckDuckGoSearchRun(source=source)\n",
    "    return duck.invoke(query)\n",
    "@tool\n",
    "def python_interpreter(code):\n",
    "    \"\"\"A Python interpreter. Use this to execute Python code. Input should be a single string of valid Python code.\"\"\"\n",
    "    return PythonREPLTool(code)\n",
    "@tool\n",
    "def wikipedia(query):\n",
    "    \"\"\"A wrapper for the Wikipedia API. A useful tool for answering questions about general knowledge.\"\"\"\n",
    "    wiki = WikipediaQueryRun(api_wrapper=WikipediaAPIWrapper())\n",
    "    return wiki.run(query)\n",
    "\n",
    "tools = [ddgs, python_interpreter, wikipedia]\n",
    "\n",
    "model_op = model.bind_tools(tools)"
   ],
   "id": "d5d5f7ef3c37c582",
   "outputs": [],
   "execution_count": 43
  },
  {
   "metadata": {
    "ExecuteTime": {
     "end_time": "2025-09-16T09:58:37.819405Z",
     "start_time": "2025-09-16T09:58:37.407063Z"
    }
   },
   "cell_type": "code",
   "source": [
    "response = model_op.invoke(\"Execute a python code to create a variable x, and assign value 33, and multiply it by 5 and print it. Also take that number, and search the wikipedia site, if there are any athletes using that number, and check if the name matches with any current news\")\n",
    "response.tool_calls"
   ],
   "id": "f93f00fd218a654d",
   "outputs": [
    {
     "data": {
      "text/plain": [
       "[{'name': 'python_interpreter',\n",
       "  'args': {'code': 'x = 33 * 5; print(x)'},\n",
       "  'id': 'fy56bjmq4',\n",
       "  'type': 'tool_call'},\n",
       " {'name': 'wikipedia',\n",
       "  'args': {'query': 'athlete number 165'},\n",
       "  'id': 'qd1p92vvd',\n",
       "  'type': 'tool_call'},\n",
       " {'name': 'ddgs',\n",
       "  'args': {'query': 'athlete number 165 news', 'source': 'news'},\n",
       "  'id': '1grcmv8dz',\n",
       "  'type': 'tool_call'}]"
      ]
     },
     "execution_count": 47,
     "metadata": {},
     "output_type": "execute_result"
    }
   ],
   "execution_count": 47
  }
 ],
 "metadata": {
  "kernelspec": {
   "display_name": "Python 3",
   "language": "python",
   "name": "python3"
  },
  "language_info": {
   "codemirror_mode": {
    "name": "ipython",
    "version": 2
   },
   "file_extension": ".py",
   "mimetype": "text/x-python",
   "name": "python",
   "nbconvert_exporter": "python",
   "pygments_lexer": "ipython2",
   "version": "2.7.6"
  }
 },
 "nbformat": 4,
 "nbformat_minor": 5
}
