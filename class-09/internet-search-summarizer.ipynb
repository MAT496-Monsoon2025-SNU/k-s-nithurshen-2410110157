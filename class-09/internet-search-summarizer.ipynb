{
 "cells": [
  {
   "cell_type": "code",
   "id": "initial_id",
   "metadata": {
    "collapsed": true,
    "ExecuteTime": {
     "end_time": "2025-09-18T09:04:07.750467Z",
     "start_time": "2025-09-18T09:04:04.968431Z"
    }
   },
   "source": [
    "import os\n",
    "from dotenv import load_dotenv\n",
    "from nltk import toolbox\n",
    "load_dotenv()\n",
    "from IPython.display import Markdown, display"
   ],
   "outputs": [],
   "execution_count": 1
  },
  {
   "metadata": {
    "ExecuteTime": {
     "end_time": "2025-09-18T09:04:21.973867Z",
     "start_time": "2025-09-18T09:04:18.541068Z"
    }
   },
   "cell_type": "code",
   "source": [
    "from langchain.chat_models import init_chat_model\n",
    "model = init_chat_model(\"llama-3.3-70b-versatile\", model_provider=\"groq\")"
   ],
   "id": "a50e8f8220ee2598",
   "outputs": [
    {
     "name": "stderr",
     "output_type": "stream",
     "text": [
      "/Users/nithurshen/SNU/MAT496/.venv/lib/python3.9/site-packages/urllib3/__init__.py:35: NotOpenSSLWarning: urllib3 v2 only supports OpenSSL 1.1.1+, currently the 'ssl' module is compiled with 'LibreSSL 2.8.3'. See: https://github.com/urllib3/urllib3/issues/3020\n",
      "  warnings.warn(\n",
      "/Users/nithurshen/SNU/MAT496/.venv/lib/python3.9/site-packages/tqdm/auto.py:21: TqdmWarning: IProgress not found. Please update jupyter and ipywidgets. See https://ipywidgets.readthedocs.io/en/stable/user_install.html\n",
      "  from .autonotebook import tqdm as notebook_tqdm\n"
     ]
    }
   ],
   "execution_count": 2
  },
  {
   "metadata": {
    "ExecuteTime": {
     "end_time": "2025-09-18T09:10:25.979855Z",
     "start_time": "2025-09-18T09:10:25.971175Z"
    }
   },
   "cell_type": "code",
   "source": [
    "from langchain_community.tools import DuckDuckGoSearchRun\n",
    "from langchain_core.tools import tool\n",
    "from langchain_experimental.tools import PythonREPLTool\n",
    "from langchain_community.tools import WikipediaQueryRun\n",
    "from langchain_community.utilities import WikipediaAPIWrapper\n",
    "\n",
    "@tool\n",
    "def ddgs(source, query):\n",
    "    \"\"\"Integrates with Duck Duck Go Search engine, and fetches latest information from the web\n",
    "    Allowed parameters for source: 'news', 'article', 'text', 'images', 'videos', 'answers'\"\"\"\n",
    "    duck = DuckDuckGoSearchRun()\n",
    "    if source == 'article':\n",
    "        full_query = f\"{query} article\"\n",
    "    elif source == 'news':\n",
    "        full_query = f\"{query} news\"\n",
    "    else:\n",
    "        full_query = query\n",
    "\n",
    "    return duck.invoke(full_query)\n",
    "\n",
    "tools = [ddgs]\n",
    "\n",
    "model_op = model.bind_tools(tools)"
   ],
   "id": "d5d5f7ef3c37c582",
   "outputs": [],
   "execution_count": 24
  },
  {
   "metadata": {
    "ExecuteTime": {
     "end_time": "2025-09-18T09:15:33.435571Z",
     "start_time": "2025-09-18T09:15:29.036032Z"
    }
   },
   "cell_type": "code",
   "source": [
    "response = model_op.invoke(\"Search the web about Max Verstappen' mom, and the information must be based on internet articles\")\n",
    "response.tool_calls"
   ],
   "id": "23f5c02c70047b91",
   "outputs": [
    {
     "data": {
      "text/plain": [
       "[{'name': 'ddgs',\n",
       "  'args': {'query': 'Max Verstappen mom', 'source': 'article'},\n",
       "  'id': 'wffzj3qdm',\n",
       "  'type': 'tool_call'}]"
      ]
     },
     "execution_count": 35,
     "metadata": {},
     "output_type": "execute_result"
    }
   ],
   "execution_count": 35
  },
  {
   "metadata": {
    "ExecuteTime": {
     "end_time": "2025-09-18T09:15:37.380491Z",
     "start_time": "2025-09-18T09:15:35.997265Z"
    }
   },
   "cell_type": "code",
   "source": [
    "tool_args = response.tool_calls[0]['args']\n",
    "result = ddgs.invoke(tool_args)\n",
    "print(result, response.tool_calls)"
   ],
   "id": "c3372f42aed159a6",
   "outputs": [
    {
     "name": "stdout",
     "output_type": "stream",
     "text": [
      "3 Dec 2024 — She is the former wife of Dutch Formula One driver Jos Verstappen, and mother to four-time World Drivers' Champion Max Verstappen . feature-image. Max Verstappen is having the best Formula One season in his career so far. The man in form has so far won five races out of the nine races in the 2021 season. Max is currently leading the drivers’ championship with 182 points, being the first Dutch driver to do so. Max Verstappen , who started karting at four, benefited from his mother’s expertise. Sophie stressed discipline, attention, and hard effort, which would shape Max ’s racing style. Max won many junior formula titles under her guidance before making his F1 debut at 17. Max Verstappen ’s mother, Sophie Kumpen, has recently hit the headlines with her controversial remark about Sergio Perez. This came after Verstappen came under massive criticism for not letting the Mexican pass during the final laps of the Brazil GP. Max Verstappen and Sergio Perez of Red Bull racing at the podium during the F1 Grand Prix of Mexico at Circuito Hermanos Rodriguez from Oct. [{'name': 'ddgs', 'args': {'query': 'Max Verstappen mom', 'source': 'article'}, 'id': 'wffzj3qdm', 'type': 'tool_call'}]\n"
     ]
    }
   ],
   "execution_count": 36
  },
  {
   "metadata": {
    "ExecuteTime": {
     "end_time": "2025-09-18T09:18:27.658777Z",
     "start_time": "2025-09-18T09:18:27.654661Z"
    }
   },
   "cell_type": "code",
   "source": [
    "## Creating one unified function for web search with LLM:\n",
    "def web_search(prompt):\n",
    "    response = model_op.invoke(prompt)\n",
    "    if response.tool_calls:\n",
    "        print(response.tool_calls[0]['args'])\n",
    "        return ddgs.invoke(response.tool_calls[0]['args'])\n",
    "    else:\n",
    "        return response.content\n"
   ],
   "id": "ea00b7c8a57555db",
   "outputs": [],
   "execution_count": 41
  },
  {
   "metadata": {
    "ExecuteTime": {
     "end_time": "2025-09-18T09:18:30.824211Z",
     "start_time": "2025-09-18T09:18:29.108919Z"
    }
   },
   "cell_type": "code",
   "source": "web_search(\"Tell me about Oscar Piastri's early life, based on latest reported news!\")",
   "id": "a0e90ef9d989ac89",
   "outputs": [
    {
     "name": "stdout",
     "output_type": "stream",
     "text": [
      "{'query': 'Oscar Piastri early life', 'source': 'news'}\n"
     ]
    },
    {
     "data": {
      "text/plain": [
       "\"Outside of Formula One, Oscar Piastri leads an active and well-rounded life . ... Piastri s multifaceted interests and dedication to maintaining a ... The physical and mental tuning helping Piastri acclimatise to F1 - https://www.motorsport.com/f1/ news /th... ... Oscar Piastri , Piastri F1, McLaren F1 ... From his early karting days in Australia to his controversial Formula One debut with McLaren, Oscar Piastri s story is one of methodical brilliance ... From his early karting days in Australia to his controversial Formula One debut with McLaren, Oscar Piastri 's story is one of methodical brilliance ... Stay up-to-date on the latest news and updates about Oscar Piastri ’ s F1 career, family background, and personal life .\""
      ]
     },
     "execution_count": 42,
     "metadata": {},
     "output_type": "execute_result"
    }
   ],
   "execution_count": 42
  }
 ],
 "metadata": {
  "kernelspec": {
   "display_name": "Python 3",
   "language": "python",
   "name": "python3"
  },
  "language_info": {
   "codemirror_mode": {
    "name": "ipython",
    "version": 2
   },
   "file_extension": ".py",
   "mimetype": "text/x-python",
   "name": "python",
   "nbconvert_exporter": "python",
   "pygments_lexer": "ipython2",
   "version": "2.7.6"
  }
 },
 "nbformat": 4,
 "nbformat_minor": 5
}
