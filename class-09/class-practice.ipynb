{
 "cells": [
  {
   "cell_type": "code",
   "id": "initial_id",
   "metadata": {
    "collapsed": true,
    "ExecuteTime": {
     "end_time": "2025-09-16T09:25:48.787847Z",
     "start_time": "2025-09-16T09:25:45.685862Z"
    }
   },
   "source": [
    "import os\n",
    "from dotenv import load_dotenv\n",
    "from nltk import toolbox\n",
    "\n",
    "load_dotenv()\n",
    "from IPython.display import Markdown, display"
   ],
   "outputs": [],
   "execution_count": 42
  },
  {
   "metadata": {
    "ExecuteTime": {
     "end_time": "2025-09-16T09:25:48.802711Z",
     "start_time": "2025-09-16T09:25:48.793341Z"
    }
   },
   "cell_type": "code",
   "source": [
    "from langchain.chat_models import init_chat_model\n",
    "model = init_chat_model(\"llama-3.3-70b-versatile\", model_provider=\"groq\")"
   ],
   "id": "8af7e1a032b541bf",
   "outputs": [],
   "execution_count": 43
  },
  {
   "metadata": {
    "ExecuteTime": {
     "end_time": "2025-09-16T09:25:50.462707Z",
     "start_time": "2025-09-16T09:25:48.806733Z"
    }
   },
   "cell_type": "code",
   "source": [
    "template = \"\"\"List {character_name}'s data with respect to {context_name}\"\"\"\n",
    "\n",
    "response = model.invoke(template.format(character_name=\"Anakin Skywalker\", context_name=\"Star Wars\"))\n",
    "display(Markdown(response.content))"
   ],
   "id": "838c473d1ad745d0",
   "outputs": [
    {
     "data": {
      "text/plain": [
       "<IPython.core.display.Markdown object>"
      ],
      "text/markdown": "Here's Anakin Skywalker's data with respect to Star Wars:\n\n1. **Name:** Anakin Skywalker (later known as Darth Vader)\n2. **Birth:** 41 BBY (Before the Battle of Yavin)\n3. **Death:** 4 ABY (After the Battle of Yavin)\n4. **Species:** Human\n5. **Occupation:** \n   - Slave boy (initially)\n   - Jedi Knight\n   - Sith Lord (Darth Vader)\n   - Galactic Emperor's apprentice\n6. **Affiliation:** \n   - Jedi Order\n   - Galactic Republic\n   - Galactic Empire\n7. **Rank:** \n   - Padawan learner (under Obi-Wan Kenobi)\n   - Jedi Knight\n   - General in the Clone Wars\n   - Darth Vader (Sith Lord and right-hand to Emperor Palpatine)\n8. **Personality:** \n   - Impulsive\n   - Emotional\n   - Confident\n   - Loyal (initially to the Jedi Order, later to Emperor Palpatine)\n9. **Abilities:** \n   - Skilled pilot and mechanic\n   - Exceptional lightsaber duelist\n   - Strong connection to the Force\n   - Highly intelligent and resourceful\n10. **Relationships:** \n    - **Obi-Wan Kenobi:** Mentor and friend\n    - **Padmé Amidala:** Wife and love interest\n    - **Luke Skywalker:** Son\n    - **Leia Organa:** Daughter\n    - **Palpatine:** Master and manipulator\n    - **Chancellor Mon Mothma:** Ally (as a Jedi)\n    - **Mace Windu:** Fellow Jedi and friend\n11. **Notable events:** \n    - **The Clone Wars:** Participated as a general and Jedi Knight\n    - **Fall to the dark side:** Seduced by Palpatine's promises and became Darth Vader\n    - **Redemption:** Saved his son Luke and killed Emperor Palpatine, ultimately finding redemption\n12. **Equipment:** \n    - **Lightsabers:** Blue (initially) and red (as Darth Vader)\n    - **Starfighters:** Used various starfighters, including the Jedi Starfighter and TIE Advanced\n    - **Cybernetic suit:** Wore a life-supporting suit as Darth Vader due to severe injuries sustained during his duel with Obi-Wan Kenobi."
     },
     "metadata": {},
     "output_type": "display_data",
     "jetTransient": {
      "display_id": null
     }
    }
   ],
   "execution_count": 44
  },
  {
   "metadata": {
    "ExecuteTime": {
     "end_time": "2025-09-16T09:26:50.453714Z",
     "start_time": "2025-09-16T09:26:50.436804Z"
    }
   },
   "cell_type": "code",
   "source": [
    "from langchain_core.tools import tool\n",
    "@tool\n",
    "def addition(a, b):\n",
    "    \"\"\"Adds two numbers (a, b)\"\"\"\n",
    "    return a + b\n",
    "@tool\n",
    "def subtraction(a, b):\n",
    "    \"\"\"Subtracts two numbers (a, b)\"\"\"\n",
    "    return a - b\n",
    "@tool\n",
    "def multiply(a, b):\n",
    "    \"\"\"Multiply two numbers (a, b)\"\"\"\n",
    "    return a * b\n",
    "@tool\n",
    "def divide(a, b):\n",
    "    \"\"\"Divide two numbers (a, b)\"\"\"\n",
    "    return a / b\n",
    "tools = [addition, subtraction, multiply, divide]\n",
    "model_2 = model.bind_tools(tools)"
   ],
   "id": "9253ec7e1c2e6c53",
   "outputs": [],
   "execution_count": 50
  },
  {
   "metadata": {
    "ExecuteTime": {
     "end_time": "2025-09-16T09:30:03.211577Z",
     "start_time": "2025-09-16T09:30:02.705561Z"
    }
   },
   "cell_type": "code",
   "source": [
    "response = model_2.invoke(\"Add 33 to 16 and subtract the value from 81 and multply the value to 44, and divide the whole by 22. And do the process all over again by replacing 33 with the result obtained\")\n",
    "response.tool_calls"
   ],
   "id": "f8750fa1fb9f7956",
   "outputs": [
    {
     "data": {
      "text/plain": [
       "[{'name': 'addition',\n",
       "  'args': {'a': 33, 'b': 16},\n",
       "  'id': 'mtzpv0rhr',\n",
       "  'type': 'tool_call'},\n",
       " {'name': 'subtraction',\n",
       "  'args': {'a': 81, 'b': 49},\n",
       "  'id': 'ema7bg1w6',\n",
       "  'type': 'tool_call'},\n",
       " {'name': 'multiply',\n",
       "  'args': {'a': 32, 'b': 44},\n",
       "  'id': 'tjfyp2wqw',\n",
       "  'type': 'tool_call'},\n",
       " {'name': 'divide',\n",
       "  'args': {'a': 1408, 'b': 22},\n",
       "  'id': '624ess6jh',\n",
       "  'type': 'tool_call'},\n",
       " {'name': 'addition',\n",
       "  'args': {'a': 63, 'b': 16},\n",
       "  'id': 'cq5kvsp4g',\n",
       "  'type': 'tool_call'},\n",
       " {'name': 'subtraction',\n",
       "  'args': {'a': 81, 'b': 79},\n",
       "  'id': 'bn5gn31fx',\n",
       "  'type': 'tool_call'},\n",
       " {'name': 'multiply',\n",
       "  'args': {'a': 2, 'b': 44},\n",
       "  'id': 'a3tzt1609',\n",
       "  'type': 'tool_call'},\n",
       " {'name': 'divide',\n",
       "  'args': {'a': 88, 'b': 22},\n",
       "  'id': 'xk3mgwp03',\n",
       "  'type': 'tool_call'}]"
      ]
     },
     "execution_count": 58,
     "metadata": {},
     "output_type": "execute_result"
    }
   ],
   "execution_count": 58
  }
 ],
 "metadata": {
  "kernelspec": {
   "display_name": "Python 3",
   "language": "python",
   "name": "python3"
  },
  "language_info": {
   "codemirror_mode": {
    "name": "ipython",
    "version": 2
   },
   "file_extension": ".py",
   "mimetype": "text/x-python",
   "name": "python",
   "nbconvert_exporter": "python",
   "pygments_lexer": "ipython2",
   "version": "2.7.6"
  }
 },
 "nbformat": 4,
 "nbformat_minor": 5
}
